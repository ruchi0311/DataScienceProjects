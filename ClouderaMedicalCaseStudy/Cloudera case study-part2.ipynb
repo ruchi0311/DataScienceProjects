{
 "cells": [
  {
   "cell_type": "markdown",
   "metadata": {},
   "source": [
    "# Health Care Case Study : Part 2"
   ]
  },
  {
   "cell_type": "markdown",
   "metadata": {},
   "source": [
    "### Identify the three providers that are least similar to other providers and the the three regions that \n",
    "### are least similar to other region"
   ]
  },
  {
   "cell_type": "markdown",
   "metadata": {},
   "source": [
    "2.1 Identify the three providers that are least similar to other providers"
   ]
  },
  {
   "cell_type": "code",
   "execution_count": 58,
   "metadata": {},
   "outputs": [],
   "source": [
    "# Import the libraries\n",
    "\n",
    "import pandas as pd\n",
    "import numpy as np\n",
    "import seaborn as sns\n",
    "import matplotlib.pyplot as plt\n",
    "%matplotlib inline\n",
    "plt.rcParams['figure.figsize'] = 10, 7.5\n",
    "plt.rcParams['axes.grid'] = True\n",
    "\n",
    "import scipy.stats as stats\n",
    "import pandas_profiling as pp\n",
    "\n",
    "from sklearn.preprocessing import StandardScaler, MinMaxScaler\n",
    "from sklearn.cluster import KMeans\n",
    "from sklearn.metrics import silhouette_score\n",
    "from sklearn.decomposition import PCA"
   ]
  },
  {
   "cell_type": "code",
   "execution_count": 59,
   "metadata": {},
   "outputs": [],
   "source": [
    "Provider_Charge_In = pd.read_csv('Medicare_Provider_Charge_Inpatient_DRG100_FY2011.csv')\n",
    "Provider_Charge_Out = pd.read_csv('Medicare_Provider_Charge_Outpatient_APC30_CY2011_v2.csv')"
   ]
  },
  {
   "cell_type": "code",
   "execution_count": 3,
   "metadata": {},
   "outputs": [],
   "source": [
    "# For the Data pro-processing, will generate pandas profiling report to get a clear picture of the data."
   ]
  },
  {
   "cell_type": "code",
   "execution_count": 4,
   "metadata": {},
   "outputs": [
    {
     "data": {
      "application/vnd.jupyter.widget-view+json": {
       "model_id": "f01c94b7a2c4493d8fe5c2e6166245c2",
       "version_major": 2,
       "version_minor": 0
      },
      "text/plain": [
       "HBox(children=(FloatProgress(value=0.0, description='variables', max=12.0, style=ProgressStyle(description_wid…"
      ]
     },
     "metadata": {},
     "output_type": "display_data"
    },
    {
     "name": "stdout",
     "output_type": "stream",
     "text": [
      "\n"
     ]
    },
    {
     "ename": "KeyboardInterrupt",
     "evalue": "",
     "output_type": "error",
     "traceback": [
      "\u001b[0;31m---------------------------------------------------------------------------\u001b[0m",
      "\u001b[0;31mIndexError\u001b[0m                                Traceback (most recent call last)",
      "\u001b[0;32m/opt/anaconda3/lib/python3.7/multiprocessing/pool.py\u001b[0m in \u001b[0;36mnext\u001b[0;34m(self, timeout)\u001b[0m\n\u001b[1;32m    732\u001b[0m             \u001b[0;32mtry\u001b[0m\u001b[0;34m:\u001b[0m\u001b[0;34m\u001b[0m\u001b[0;34m\u001b[0m\u001b[0m\n\u001b[0;32m--> 733\u001b[0;31m                 \u001b[0mitem\u001b[0m \u001b[0;34m=\u001b[0m \u001b[0mself\u001b[0m\u001b[0;34m.\u001b[0m\u001b[0m_items\u001b[0m\u001b[0;34m.\u001b[0m\u001b[0mpopleft\u001b[0m\u001b[0;34m(\u001b[0m\u001b[0;34m)\u001b[0m\u001b[0;34m\u001b[0m\u001b[0;34m\u001b[0m\u001b[0m\n\u001b[0m\u001b[1;32m    734\u001b[0m             \u001b[0;32mexcept\u001b[0m \u001b[0mIndexError\u001b[0m\u001b[0;34m:\u001b[0m\u001b[0;34m\u001b[0m\u001b[0;34m\u001b[0m\u001b[0m\n",
      "\u001b[0;31mIndexError\u001b[0m: pop from an empty deque",
      "\nDuring handling of the above exception, another exception occurred:\n",
      "\u001b[0;31mKeyboardInterrupt\u001b[0m                         Traceback (most recent call last)",
      "\u001b[0;32m<ipython-input-4-ad9999bfec93>\u001b[0m in \u001b[0;36m<module>\u001b[0;34m\u001b[0m\n\u001b[0;32m----> 1\u001b[0;31m \u001b[0mProvider_Charge_In_Profile\u001b[0m\u001b[0;34m=\u001b[0m \u001b[0mpp\u001b[0m\u001b[0;34m.\u001b[0m\u001b[0mProfileReport\u001b[0m\u001b[0;34m(\u001b[0m\u001b[0mProvider_Charge_In\u001b[0m\u001b[0;34m)\u001b[0m\u001b[0;34m\u001b[0m\u001b[0;34m\u001b[0m\u001b[0m\n\u001b[0m",
      "\u001b[0;32m/opt/anaconda3/lib/python3.7/site-packages/pandas_profiling/__init__.py\u001b[0m in \u001b[0;36m__init__\u001b[0;34m(self, df, minimal, config_file, **kwargs)\u001b[0m\n\u001b[1;32m     68\u001b[0m \u001b[0;34m\u001b[0m\u001b[0m\n\u001b[1;32m     69\u001b[0m         \u001b[0;31m# Get dataset statistics\u001b[0m\u001b[0;34m\u001b[0m\u001b[0;34m\u001b[0m\u001b[0;34m\u001b[0m\u001b[0m\n\u001b[0;32m---> 70\u001b[0;31m         \u001b[0mdescription_set\u001b[0m \u001b[0;34m=\u001b[0m \u001b[0mdescribe_df\u001b[0m\u001b[0;34m(\u001b[0m\u001b[0mdf\u001b[0m\u001b[0;34m)\u001b[0m\u001b[0;34m\u001b[0m\u001b[0;34m\u001b[0m\u001b[0m\n\u001b[0m\u001b[1;32m     71\u001b[0m \u001b[0;34m\u001b[0m\u001b[0m\n\u001b[1;32m     72\u001b[0m         \u001b[0;31m# Build report structure\u001b[0m\u001b[0;34m\u001b[0m\u001b[0;34m\u001b[0m\u001b[0;34m\u001b[0m\u001b[0m\n",
      "\u001b[0;32m/opt/anaconda3/lib/python3.7/site-packages/pandas_profiling/model/describe.py\u001b[0m in \u001b[0;36mdescribe\u001b[0;34m(df)\u001b[0m\n\u001b[1;32m    600\u001b[0m             \u001b[0;32mwith\u001b[0m \u001b[0mmultiprocessing\u001b[0m\u001b[0;34m.\u001b[0m\u001b[0mpool\u001b[0m\u001b[0;34m.\u001b[0m\u001b[0mThreadPool\u001b[0m\u001b[0;34m(\u001b[0m\u001b[0mpool_size\u001b[0m\u001b[0;34m)\u001b[0m \u001b[0;32mas\u001b[0m \u001b[0mexecutor\u001b[0m\u001b[0;34m:\u001b[0m\u001b[0;34m\u001b[0m\u001b[0;34m\u001b[0m\u001b[0m\n\u001b[1;32m    601\u001b[0m                 for i, (column, description) in enumerate(\n\u001b[0;32m--> 602\u001b[0;31m                     \u001b[0mexecutor\u001b[0m\u001b[0;34m.\u001b[0m\u001b[0mimap_unordered\u001b[0m\u001b[0;34m(\u001b[0m\u001b[0mmultiprocess_1d\u001b[0m\u001b[0;34m,\u001b[0m \u001b[0margs\u001b[0m\u001b[0;34m)\u001b[0m\u001b[0;34m\u001b[0m\u001b[0;34m\u001b[0m\u001b[0m\n\u001b[0m\u001b[1;32m    603\u001b[0m                 ):\n\u001b[1;32m    604\u001b[0m                     \u001b[0mseries_description\u001b[0m\u001b[0;34m[\u001b[0m\u001b[0mcolumn\u001b[0m\u001b[0;34m]\u001b[0m \u001b[0;34m=\u001b[0m \u001b[0mdescription\u001b[0m\u001b[0;34m\u001b[0m\u001b[0;34m\u001b[0m\u001b[0m\n",
      "\u001b[0;32m/opt/anaconda3/lib/python3.7/multiprocessing/pool.py\u001b[0m in \u001b[0;36mnext\u001b[0;34m(self, timeout)\u001b[0m\n\u001b[1;32m    735\u001b[0m                 \u001b[0;32mif\u001b[0m \u001b[0mself\u001b[0m\u001b[0;34m.\u001b[0m\u001b[0m_index\u001b[0m \u001b[0;34m==\u001b[0m \u001b[0mself\u001b[0m\u001b[0;34m.\u001b[0m\u001b[0m_length\u001b[0m\u001b[0;34m:\u001b[0m\u001b[0;34m\u001b[0m\u001b[0;34m\u001b[0m\u001b[0m\n\u001b[1;32m    736\u001b[0m                     \u001b[0;32mraise\u001b[0m \u001b[0mStopIteration\u001b[0m \u001b[0;32mfrom\u001b[0m \u001b[0;32mNone\u001b[0m\u001b[0;34m\u001b[0m\u001b[0;34m\u001b[0m\u001b[0m\n\u001b[0;32m--> 737\u001b[0;31m                 \u001b[0mself\u001b[0m\u001b[0;34m.\u001b[0m\u001b[0m_cond\u001b[0m\u001b[0;34m.\u001b[0m\u001b[0mwait\u001b[0m\u001b[0;34m(\u001b[0m\u001b[0mtimeout\u001b[0m\u001b[0;34m)\u001b[0m\u001b[0;34m\u001b[0m\u001b[0;34m\u001b[0m\u001b[0m\n\u001b[0m\u001b[1;32m    738\u001b[0m                 \u001b[0;32mtry\u001b[0m\u001b[0;34m:\u001b[0m\u001b[0;34m\u001b[0m\u001b[0;34m\u001b[0m\u001b[0m\n\u001b[1;32m    739\u001b[0m                     \u001b[0mitem\u001b[0m \u001b[0;34m=\u001b[0m \u001b[0mself\u001b[0m\u001b[0;34m.\u001b[0m\u001b[0m_items\u001b[0m\u001b[0;34m.\u001b[0m\u001b[0mpopleft\u001b[0m\u001b[0;34m(\u001b[0m\u001b[0;34m)\u001b[0m\u001b[0;34m\u001b[0m\u001b[0;34m\u001b[0m\u001b[0m\n",
      "\u001b[0;32m/opt/anaconda3/lib/python3.7/threading.py\u001b[0m in \u001b[0;36mwait\u001b[0;34m(self, timeout)\u001b[0m\n\u001b[1;32m    294\u001b[0m         \u001b[0;32mtry\u001b[0m\u001b[0;34m:\u001b[0m    \u001b[0;31m# restore state no matter what (e.g., KeyboardInterrupt)\u001b[0m\u001b[0;34m\u001b[0m\u001b[0;34m\u001b[0m\u001b[0m\n\u001b[1;32m    295\u001b[0m             \u001b[0;32mif\u001b[0m \u001b[0mtimeout\u001b[0m \u001b[0;32mis\u001b[0m \u001b[0;32mNone\u001b[0m\u001b[0;34m:\u001b[0m\u001b[0;34m\u001b[0m\u001b[0;34m\u001b[0m\u001b[0m\n\u001b[0;32m--> 296\u001b[0;31m                 \u001b[0mwaiter\u001b[0m\u001b[0;34m.\u001b[0m\u001b[0macquire\u001b[0m\u001b[0;34m(\u001b[0m\u001b[0;34m)\u001b[0m\u001b[0;34m\u001b[0m\u001b[0;34m\u001b[0m\u001b[0m\n\u001b[0m\u001b[1;32m    297\u001b[0m                 \u001b[0mgotit\u001b[0m \u001b[0;34m=\u001b[0m \u001b[0;32mTrue\u001b[0m\u001b[0;34m\u001b[0m\u001b[0;34m\u001b[0m\u001b[0m\n\u001b[1;32m    298\u001b[0m             \u001b[0;32melse\u001b[0m\u001b[0;34m:\u001b[0m\u001b[0;34m\u001b[0m\u001b[0;34m\u001b[0m\u001b[0m\n",
      "\u001b[0;31mKeyboardInterrupt\u001b[0m: "
     ]
    }
   ],
   "source": [
    "Provider_Charge_In_Profile= pp.ProfileReport(Provider_Charge_In)"
   ]
  },
  {
   "cell_type": "code",
   "execution_count": null,
   "metadata": {},
   "outputs": [],
   "source": [
    "Provider_Charge_In_Profile"
   ]
  },
  {
   "cell_type": "code",
   "execution_count": null,
   "metadata": {},
   "outputs": [],
   "source": [
    "# Based on the above report we see, there are no missing or null values in the data also 'Average Medicare Payments' \n",
    "# is highly co-related with 'Average Total Payments' so we can conside only one of the variable for analysis purpose."
   ]
  },
  {
   "cell_type": "code",
   "execution_count": null,
   "metadata": {},
   "outputs": [],
   "source": [
    "Provider_Charge_Out_Profile= pp.ProfileReport(Provider_Charge_Out)\n",
    "Provider_Charge_Out_Profile"
   ]
  },
  {
   "cell_type": "code",
   "execution_count": null,
   "metadata": {},
   "outputs": [],
   "source": [
    "# Based on the above Outpatient report, there are no missing/ null values and also no  Co-relation between any features. Hence no need to treat missing/null values."
   ]
  },
  {
   "cell_type": "code",
   "execution_count": 60,
   "metadata": {},
   "outputs": [
    {
     "name": "stdout",
     "output_type": "stream",
     "text": [
      "<class 'pandas.core.frame.DataFrame'>\n",
      "RangeIndex: 163065 entries, 0 to 163064\n",
      "Data columns (total 12 columns):\n",
      "DRG Definition                                163065 non-null object\n",
      "Provider Id                                   163065 non-null int64\n",
      "Provider Name                                 163065 non-null object\n",
      "Provider Street Address                       163065 non-null object\n",
      "Provider City                                 163065 non-null object\n",
      "Provider State                                163065 non-null object\n",
      "Provider Zip Code                             163065 non-null int64\n",
      "Hospital Referral Region (HRR) Description    163065 non-null object\n",
      "Total Discharges                              163065 non-null int64\n",
      "Average Covered Charges                       163065 non-null float64\n",
      "Average Total Payments                        163065 non-null float64\n",
      "Average Medicare Payments                     163065 non-null float64\n",
      "dtypes: float64(3), int64(3), object(6)\n",
      "memory usage: 14.9+ MB\n"
     ]
    }
   ],
   "source": [
    "# Data Manipulation and Feature engineering Steps:\n",
    "\n",
    "# Based on the inpatient profile reports, there are no missing or null values in the data also 'Average Medicare Payments' \n",
    "# is highly co-related with 'Average Total Payments' so we can drop one of the variable for analysis purpose. Also, id, zip code, address and city is not needed. \n",
    "\n",
    "Provider_Charge_In.info()"
   ]
  },
  {
   "cell_type": "markdown",
   "metadata": {},
   "source": [
    "* For the analysis purpose we will consider the below columns from Provider_Charge_In based on the profile report summary.\n",
    "    \n",
    "    Columns: DRG Definition, Provider Name, Provider State, Hospital Referral Region (HRR) Description, Total Discharges, Average Covered Charges and Average Total Payments\n",
    "\n",
    "\n"
   ]
  },
  {
   "cell_type": "code",
   "execution_count": 61,
   "metadata": {},
   "outputs": [],
   "source": [
    "# Renaming columns for Inpatients and Outpatients\n",
    "\n",
    "Provider_Charge_In.rename(columns = {'DRG Definition': 'Procedure', \n",
    "                                    'Provider Name': 'Provider',\n",
    "                                     'Provider State': 'State',\n",
    "                                     'Hospital Referral Region (HRR) Description' : 'Region',\n",
    "                                     'Total Discharges': 'Service_Count',\n",
    "                                     'Average Covered Charges': 'Charges',\n",
    "                                     'Average Total Payments':'Payments'\n",
    "                                    }, inplace= True)"
   ]
  },
  {
   "cell_type": "code",
   "execution_count": 62,
   "metadata": {},
   "outputs": [
    {
     "data": {
      "text/html": [
       "<div>\n",
       "<style scoped>\n",
       "    .dataframe tbody tr th:only-of-type {\n",
       "        vertical-align: middle;\n",
       "    }\n",
       "\n",
       "    .dataframe tbody tr th {\n",
       "        vertical-align: top;\n",
       "    }\n",
       "\n",
       "    .dataframe thead th {\n",
       "        text-align: right;\n",
       "    }\n",
       "</style>\n",
       "<table border=\"1\" class=\"dataframe\">\n",
       "  <thead>\n",
       "    <tr style=\"text-align: right;\">\n",
       "      <th></th>\n",
       "      <th>Procedure</th>\n",
       "      <th>Provider</th>\n",
       "      <th>State</th>\n",
       "      <th>Region</th>\n",
       "      <th>Service_Count</th>\n",
       "      <th>Charges</th>\n",
       "      <th>Payments</th>\n",
       "    </tr>\n",
       "  </thead>\n",
       "  <tbody>\n",
       "    <tr>\n",
       "      <th>0</th>\n",
       "      <td>039 - EXTRACRANIAL PROCEDURES W/O CC/MCC</td>\n",
       "      <td>SOUTHEAST ALABAMA MEDICAL CENTER</td>\n",
       "      <td>AL</td>\n",
       "      <td>AL - Dothan</td>\n",
       "      <td>91</td>\n",
       "      <td>32963.07692</td>\n",
       "      <td>5777.241758</td>\n",
       "    </tr>\n",
       "    <tr>\n",
       "      <th>1</th>\n",
       "      <td>039 - EXTRACRANIAL PROCEDURES W/O CC/MCC</td>\n",
       "      <td>MARSHALL MEDICAL CENTER SOUTH</td>\n",
       "      <td>AL</td>\n",
       "      <td>AL - Birmingham</td>\n",
       "      <td>14</td>\n",
       "      <td>15131.85714</td>\n",
       "      <td>5787.571429</td>\n",
       "    </tr>\n",
       "    <tr>\n",
       "      <th>2</th>\n",
       "      <td>039 - EXTRACRANIAL PROCEDURES W/O CC/MCC</td>\n",
       "      <td>ELIZA COFFEE MEMORIAL HOSPITAL</td>\n",
       "      <td>AL</td>\n",
       "      <td>AL - Birmingham</td>\n",
       "      <td>24</td>\n",
       "      <td>37560.37500</td>\n",
       "      <td>5434.958333</td>\n",
       "    </tr>\n",
       "    <tr>\n",
       "      <th>3</th>\n",
       "      <td>039 - EXTRACRANIAL PROCEDURES W/O CC/MCC</td>\n",
       "      <td>ST VINCENT'S EAST</td>\n",
       "      <td>AL</td>\n",
       "      <td>AL - Birmingham</td>\n",
       "      <td>25</td>\n",
       "      <td>13998.28000</td>\n",
       "      <td>5417.560000</td>\n",
       "    </tr>\n",
       "    <tr>\n",
       "      <th>4</th>\n",
       "      <td>039 - EXTRACRANIAL PROCEDURES W/O CC/MCC</td>\n",
       "      <td>SHELBY BAPTIST MEDICAL CENTER</td>\n",
       "      <td>AL</td>\n",
       "      <td>AL - Birmingham</td>\n",
       "      <td>18</td>\n",
       "      <td>31633.27778</td>\n",
       "      <td>5658.333333</td>\n",
       "    </tr>\n",
       "  </tbody>\n",
       "</table>\n",
       "</div>"
      ],
      "text/plain": [
       "                                  Procedure                          Provider  \\\n",
       "0  039 - EXTRACRANIAL PROCEDURES W/O CC/MCC  SOUTHEAST ALABAMA MEDICAL CENTER   \n",
       "1  039 - EXTRACRANIAL PROCEDURES W/O CC/MCC     MARSHALL MEDICAL CENTER SOUTH   \n",
       "2  039 - EXTRACRANIAL PROCEDURES W/O CC/MCC    ELIZA COFFEE MEMORIAL HOSPITAL   \n",
       "3  039 - EXTRACRANIAL PROCEDURES W/O CC/MCC                 ST VINCENT'S EAST   \n",
       "4  039 - EXTRACRANIAL PROCEDURES W/O CC/MCC     SHELBY BAPTIST MEDICAL CENTER   \n",
       "\n",
       "  State           Region  Service_Count      Charges     Payments  \n",
       "0    AL      AL - Dothan             91  32963.07692  5777.241758  \n",
       "1    AL  AL - Birmingham             14  15131.85714  5787.571429  \n",
       "2    AL  AL - Birmingham             24  37560.37500  5434.958333  \n",
       "3    AL  AL - Birmingham             25  13998.28000  5417.560000  \n",
       "4    AL  AL - Birmingham             18  31633.27778  5658.333333  "
      ]
     },
     "execution_count": 62,
     "metadata": {},
     "output_type": "execute_result"
    }
   ],
   "source": [
    "Provider_Charge_In_Final= Provider_Charge_In[['Procedure','Provider','State','Region','Service_Count','Charges','Payments']]\n",
    "Provider_Charge_In_Final.head()"
   ]
  },
  {
   "cell_type": "code",
   "execution_count": 63,
   "metadata": {},
   "outputs": [
    {
     "name": "stdout",
     "output_type": "stream",
     "text": [
      "<class 'pandas.core.frame.DataFrame'>\n",
      "RangeIndex: 43372 entries, 0 to 43371\n",
      "Data columns (total 11 columns):\n",
      "APC                                           43372 non-null object\n",
      "Provider Id                                   43372 non-null int64\n",
      "Provider Name                                 43372 non-null object\n",
      "Provider Street Address                       43372 non-null object\n",
      "Provider City                                 43372 non-null object\n",
      "Provider State                                43372 non-null object\n",
      "Provider Zip Code                             43372 non-null int64\n",
      "Hospital Referral Region (HRR) Description    43372 non-null object\n",
      "Outpatient Services                           43372 non-null int64\n",
      "Average  Estimated Submitted Charges          43372 non-null float64\n",
      "Average Total Payments                        43372 non-null float64\n",
      "dtypes: float64(2), int64(3), object(6)\n",
      "memory usage: 3.6+ MB\n"
     ]
    }
   ],
   "source": [
    "Provider_Charge_Out.info()"
   ]
  },
  {
   "cell_type": "code",
   "execution_count": 64,
   "metadata": {},
   "outputs": [],
   "source": [
    "Provider_Charge_Out.rename(columns = {'APC': 'Procedure', \n",
    "                                    'Provider Name': 'Provider',\n",
    "                                     'Provider State': 'State',\n",
    "                                     'Hospital Referral Region (HRR) Description' : 'Region',\n",
    "                                     'Outpatient Services': 'Service_Count',\n",
    "                                     'Average  Estimated Submitted Charges': 'Charges',\n",
    "                                     'Average Total Payments':'Payments'\n",
    "                                    }, inplace= True)"
   ]
  },
  {
   "cell_type": "code",
   "execution_count": 65,
   "metadata": {},
   "outputs": [
    {
     "data": {
      "text/html": [
       "<div>\n",
       "<style scoped>\n",
       "    .dataframe tbody tr th:only-of-type {\n",
       "        vertical-align: middle;\n",
       "    }\n",
       "\n",
       "    .dataframe tbody tr th {\n",
       "        vertical-align: top;\n",
       "    }\n",
       "\n",
       "    .dataframe thead th {\n",
       "        text-align: right;\n",
       "    }\n",
       "</style>\n",
       "<table border=\"1\" class=\"dataframe\">\n",
       "  <thead>\n",
       "    <tr style=\"text-align: right;\">\n",
       "      <th></th>\n",
       "      <th>Procedure</th>\n",
       "      <th>Provider</th>\n",
       "      <th>State</th>\n",
       "      <th>Region</th>\n",
       "      <th>Service_Count</th>\n",
       "      <th>Charges</th>\n",
       "      <th>Payments</th>\n",
       "    </tr>\n",
       "  </thead>\n",
       "  <tbody>\n",
       "    <tr>\n",
       "      <th>0</th>\n",
       "      <td>0012 - Level I Debridement &amp; Destruction</td>\n",
       "      <td>EAST ALABAMA MEDICAL CENTER AND SNF</td>\n",
       "      <td>AL</td>\n",
       "      <td>AL - Birmingham</td>\n",
       "      <td>23</td>\n",
       "      <td>78.086957</td>\n",
       "      <td>21.910435</td>\n",
       "    </tr>\n",
       "    <tr>\n",
       "      <th>1</th>\n",
       "      <td>0012 - Level I Debridement &amp; Destruction</td>\n",
       "      <td>CENTRAL PENINSULA GENERAL HOSPITAL</td>\n",
       "      <td>AK</td>\n",
       "      <td>AK - Anchorage</td>\n",
       "      <td>994</td>\n",
       "      <td>149.589749</td>\n",
       "      <td>36.623853</td>\n",
       "    </tr>\n",
       "    <tr>\n",
       "      <th>2</th>\n",
       "      <td>0012 - Level I Debridement &amp; Destruction</td>\n",
       "      <td>UNIVERSITY OF ARIZONA MEDICAL CTR-UNIVERSIT, THE</td>\n",
       "      <td>AZ</td>\n",
       "      <td>AZ - Tucson</td>\n",
       "      <td>1765</td>\n",
       "      <td>50.135411</td>\n",
       "      <td>14.541841</td>\n",
       "    </tr>\n",
       "    <tr>\n",
       "      <th>3</th>\n",
       "      <td>0012 - Level I Debridement &amp; Destruction</td>\n",
       "      <td>BANNER BAYWOOD MEDICAL CENTER</td>\n",
       "      <td>AZ</td>\n",
       "      <td>AZ - Mesa</td>\n",
       "      <td>20</td>\n",
       "      <td>112.400000</td>\n",
       "      <td>23.736000</td>\n",
       "    </tr>\n",
       "    <tr>\n",
       "      <th>4</th>\n",
       "      <td>0012 - Level I Debridement &amp; Destruction</td>\n",
       "      <td>UNIVERSITY OF ARIZONA MEDICAL CTR- SOUTH CAM, THE</td>\n",
       "      <td>AZ</td>\n",
       "      <td>AZ - Tucson</td>\n",
       "      <td>22</td>\n",
       "      <td>152.045455</td>\n",
       "      <td>16.569091</td>\n",
       "    </tr>\n",
       "  </tbody>\n",
       "</table>\n",
       "</div>"
      ],
      "text/plain": [
       "                                  Procedure  \\\n",
       "0  0012 - Level I Debridement & Destruction   \n",
       "1  0012 - Level I Debridement & Destruction   \n",
       "2  0012 - Level I Debridement & Destruction   \n",
       "3  0012 - Level I Debridement & Destruction   \n",
       "4  0012 - Level I Debridement & Destruction   \n",
       "\n",
       "                                            Provider State           Region  \\\n",
       "0                EAST ALABAMA MEDICAL CENTER AND SNF    AL  AL - Birmingham   \n",
       "1                 CENTRAL PENINSULA GENERAL HOSPITAL    AK   AK - Anchorage   \n",
       "2   UNIVERSITY OF ARIZONA MEDICAL CTR-UNIVERSIT, THE    AZ      AZ - Tucson   \n",
       "3                      BANNER BAYWOOD MEDICAL CENTER    AZ        AZ - Mesa   \n",
       "4  UNIVERSITY OF ARIZONA MEDICAL CTR- SOUTH CAM, THE    AZ      AZ - Tucson   \n",
       "\n",
       "   Service_Count     Charges   Payments  \n",
       "0             23   78.086957  21.910435  \n",
       "1            994  149.589749  36.623853  \n",
       "2           1765   50.135411  14.541841  \n",
       "3             20  112.400000  23.736000  \n",
       "4             22  152.045455  16.569091  "
      ]
     },
     "execution_count": 65,
     "metadata": {},
     "output_type": "execute_result"
    }
   ],
   "source": [
    "Provider_Charge_Out_Final= Provider_Charge_Out[['Procedure','Provider','State','Region','Service_Count','Charges','Payments']]\n",
    "Provider_Charge_Out_Final.head()"
   ]
  },
  {
   "cell_type": "code",
   "execution_count": 66,
   "metadata": {},
   "outputs": [
    {
     "data": {
      "text/html": [
       "<div>\n",
       "<style scoped>\n",
       "    .dataframe tbody tr th:only-of-type {\n",
       "        vertical-align: middle;\n",
       "    }\n",
       "\n",
       "    .dataframe tbody tr th {\n",
       "        vertical-align: top;\n",
       "    }\n",
       "\n",
       "    .dataframe thead th {\n",
       "        text-align: right;\n",
       "    }\n",
       "</style>\n",
       "<table border=\"1\" class=\"dataframe\">\n",
       "  <thead>\n",
       "    <tr style=\"text-align: right;\">\n",
       "      <th></th>\n",
       "      <th>Procedure</th>\n",
       "      <th>Provider</th>\n",
       "      <th>State</th>\n",
       "      <th>Region</th>\n",
       "      <th>Service_Count</th>\n",
       "      <th>Charges</th>\n",
       "      <th>Payments</th>\n",
       "    </tr>\n",
       "  </thead>\n",
       "  <tbody>\n",
       "    <tr>\n",
       "      <th>0</th>\n",
       "      <td>039 - EXTRACRANIAL PROCEDURES W/O CC/MCC</td>\n",
       "      <td>SOUTHEAST ALABAMA MEDICAL CENTER</td>\n",
       "      <td>AL</td>\n",
       "      <td>AL - Dothan</td>\n",
       "      <td>91</td>\n",
       "      <td>32963.07692</td>\n",
       "      <td>5777.241758</td>\n",
       "    </tr>\n",
       "    <tr>\n",
       "      <th>1</th>\n",
       "      <td>039 - EXTRACRANIAL PROCEDURES W/O CC/MCC</td>\n",
       "      <td>MARSHALL MEDICAL CENTER SOUTH</td>\n",
       "      <td>AL</td>\n",
       "      <td>AL - Birmingham</td>\n",
       "      <td>14</td>\n",
       "      <td>15131.85714</td>\n",
       "      <td>5787.571429</td>\n",
       "    </tr>\n",
       "    <tr>\n",
       "      <th>2</th>\n",
       "      <td>039 - EXTRACRANIAL PROCEDURES W/O CC/MCC</td>\n",
       "      <td>ELIZA COFFEE MEMORIAL HOSPITAL</td>\n",
       "      <td>AL</td>\n",
       "      <td>AL - Birmingham</td>\n",
       "      <td>24</td>\n",
       "      <td>37560.37500</td>\n",
       "      <td>5434.958333</td>\n",
       "    </tr>\n",
       "    <tr>\n",
       "      <th>3</th>\n",
       "      <td>039 - EXTRACRANIAL PROCEDURES W/O CC/MCC</td>\n",
       "      <td>ST VINCENT'S EAST</td>\n",
       "      <td>AL</td>\n",
       "      <td>AL - Birmingham</td>\n",
       "      <td>25</td>\n",
       "      <td>13998.28000</td>\n",
       "      <td>5417.560000</td>\n",
       "    </tr>\n",
       "    <tr>\n",
       "      <th>4</th>\n",
       "      <td>039 - EXTRACRANIAL PROCEDURES W/O CC/MCC</td>\n",
       "      <td>SHELBY BAPTIST MEDICAL CENTER</td>\n",
       "      <td>AL</td>\n",
       "      <td>AL - Birmingham</td>\n",
       "      <td>18</td>\n",
       "      <td>31633.27778</td>\n",
       "      <td>5658.333333</td>\n",
       "    </tr>\n",
       "  </tbody>\n",
       "</table>\n",
       "</div>"
      ],
      "text/plain": [
       "                                  Procedure                          Provider  \\\n",
       "0  039 - EXTRACRANIAL PROCEDURES W/O CC/MCC  SOUTHEAST ALABAMA MEDICAL CENTER   \n",
       "1  039 - EXTRACRANIAL PROCEDURES W/O CC/MCC     MARSHALL MEDICAL CENTER SOUTH   \n",
       "2  039 - EXTRACRANIAL PROCEDURES W/O CC/MCC    ELIZA COFFEE MEMORIAL HOSPITAL   \n",
       "3  039 - EXTRACRANIAL PROCEDURES W/O CC/MCC                 ST VINCENT'S EAST   \n",
       "4  039 - EXTRACRANIAL PROCEDURES W/O CC/MCC     SHELBY BAPTIST MEDICAL CENTER   \n",
       "\n",
       "  State           Region  Service_Count      Charges     Payments  \n",
       "0    AL      AL - Dothan             91  32963.07692  5777.241758  \n",
       "1    AL  AL - Birmingham             14  15131.85714  5787.571429  \n",
       "2    AL  AL - Birmingham             24  37560.37500  5434.958333  \n",
       "3    AL  AL - Birmingham             25  13998.28000  5417.560000  \n",
       "4    AL  AL - Birmingham             18  31633.27778  5658.333333  "
      ]
     },
     "execution_count": 66,
     "metadata": {},
     "output_type": "execute_result"
    }
   ],
   "source": [
    "# Merge the data \n",
    "Provider_Charge= pd.concat([Provider_Charge_In_Final,Provider_Charge_Out_Final])\n",
    "Provider_Charge.head()"
   ]
  },
  {
   "cell_type": "code",
   "execution_count": 67,
   "metadata": {},
   "outputs": [],
   "source": [
    "Provider_Charge['Charges']=Provider_Charge['Charges'].round(2)"
   ]
  },
  {
   "cell_type": "code",
   "execution_count": 68,
   "metadata": {},
   "outputs": [],
   "source": [
    "Provider_Charge['Payments']=Provider_Charge['Payments'].round(2)"
   ]
  },
  {
   "cell_type": "code",
   "execution_count": 69,
   "metadata": {},
   "outputs": [
    {
     "data": {
      "text/plain": [
       "Procedure        False\n",
       "Provider         False\n",
       "State            False\n",
       "Region           False\n",
       "Service_Count    False\n",
       "Charges          False\n",
       "Payments         False\n",
       "dtype: bool"
      ]
     },
     "execution_count": 69,
     "metadata": {},
     "output_type": "execute_result"
    }
   ],
   "source": [
    "# Check for the null values\n",
    "Provider_Charge.isnull().any()"
   ]
  },
  {
   "cell_type": "code",
   "execution_count": 70,
   "metadata": {},
   "outputs": [
    {
     "name": "stdout",
     "output_type": "stream",
     "text": [
      "<class 'pandas.core.frame.DataFrame'>\n",
      "Int64Index: 206437 entries, 0 to 43371\n",
      "Data columns (total 7 columns):\n",
      "Procedure        206437 non-null object\n",
      "Provider         206437 non-null object\n",
      "State            206437 non-null object\n",
      "Region           206437 non-null object\n",
      "Service_Count    206437 non-null int64\n",
      "Charges          206437 non-null float64\n",
      "Payments         206437 non-null float64\n",
      "dtypes: float64(2), int64(1), object(4)\n",
      "memory usage: 12.6+ MB\n"
     ]
    }
   ],
   "source": [
    "Provider_Charge.info()"
   ]
  },
  {
   "cell_type": "markdown",
   "metadata": {},
   "source": [
    "***************************************************\n",
    "*    In this analysis , we need to find out the features which are similar to few fearues and non similar to few other  features. \n",
    "\n",
    "*    It means, we can devide these features into multiple clusters and then can find out the similarity /dis-similarity between cluters.\n",
    "\n",
    "*    Also As we see there are no outliers in the data so, for this purpose, I am choosing K-mean Clusting exploratory data analysis technique.\n",
    "\n",
    "***************************************************"
   ]
  },
  {
   "cell_type": "markdown",
   "metadata": {},
   "source": [
    "##### Part 2A: Providers least like others"
   ]
  },
  {
   "cell_type": "code",
   "execution_count": 71,
   "metadata": {},
   "outputs": [
    {
     "data": {
      "text/html": [
       "<div>\n",
       "<style scoped>\n",
       "    .dataframe tbody tr th:only-of-type {\n",
       "        vertical-align: middle;\n",
       "    }\n",
       "\n",
       "    .dataframe tbody tr th {\n",
       "        vertical-align: top;\n",
       "    }\n",
       "\n",
       "    .dataframe thead th {\n",
       "        text-align: right;\n",
       "    }\n",
       "</style>\n",
       "<table border=\"1\" class=\"dataframe\">\n",
       "  <thead>\n",
       "    <tr style=\"text-align: right;\">\n",
       "      <th></th>\n",
       "      <th>Provider</th>\n",
       "      <th>Procedure</th>\n",
       "      <th>State</th>\n",
       "      <th>Region</th>\n",
       "      <th>Service_Count</th>\n",
       "      <th>Charges</th>\n",
       "      <th>Payments</th>\n",
       "    </tr>\n",
       "  </thead>\n",
       "  <tbody>\n",
       "    <tr>\n",
       "      <th>0</th>\n",
       "      <td>ABBEVILLE GENERAL HOSPITAL</td>\n",
       "      <td>25</td>\n",
       "      <td>1</td>\n",
       "      <td>1</td>\n",
       "      <td>1294</td>\n",
       "      <td>314058.89</td>\n",
       "      <td>121115.80</td>\n",
       "    </tr>\n",
       "    <tr>\n",
       "      <th>1</th>\n",
       "      <td>ABBOTT NORTHWESTERN HOSPITAL</td>\n",
       "      <td>121</td>\n",
       "      <td>1</td>\n",
       "      <td>1</td>\n",
       "      <td>20810</td>\n",
       "      <td>4495571.85</td>\n",
       "      <td>1065438.89</td>\n",
       "    </tr>\n",
       "    <tr>\n",
       "      <th>2</th>\n",
       "      <td>ABILENE REGIONAL MEDICAL CENTER</td>\n",
       "      <td>71</td>\n",
       "      <td>1</td>\n",
       "      <td>1</td>\n",
       "      <td>7285</td>\n",
       "      <td>3613719.38</td>\n",
       "      <td>516580.33</td>\n",
       "    </tr>\n",
       "    <tr>\n",
       "      <th>3</th>\n",
       "      <td>ABINGTON MEMORIAL HOSPITAL</td>\n",
       "      <td>121</td>\n",
       "      <td>1</td>\n",
       "      <td>1</td>\n",
       "      <td>19300</td>\n",
       "      <td>6832266.25</td>\n",
       "      <td>1027582.36</td>\n",
       "    </tr>\n",
       "    <tr>\n",
       "      <th>4</th>\n",
       "      <td>ACMH HOSPITAL</td>\n",
       "      <td>54</td>\n",
       "      <td>1</td>\n",
       "      <td>1</td>\n",
       "      <td>4151</td>\n",
       "      <td>406719.05</td>\n",
       "      <td>199332.50</td>\n",
       "    </tr>\n",
       "  </tbody>\n",
       "</table>\n",
       "</div>"
      ],
      "text/plain": [
       "                          Provider  Procedure  State  Region  Service_Count  \\\n",
       "0       ABBEVILLE GENERAL HOSPITAL         25      1       1           1294   \n",
       "1     ABBOTT NORTHWESTERN HOSPITAL        121      1       1          20810   \n",
       "2  ABILENE REGIONAL MEDICAL CENTER         71      1       1           7285   \n",
       "3       ABINGTON MEMORIAL HOSPITAL        121      1       1          19300   \n",
       "4                    ACMH HOSPITAL         54      1       1           4151   \n",
       "\n",
       "      Charges    Payments  \n",
       "0   314058.89   121115.80  \n",
       "1  4495571.85  1065438.89  \n",
       "2  3613719.38   516580.33  \n",
       "3  6832266.25  1027582.36  \n",
       "4   406719.05   199332.50  "
      ]
     },
     "execution_count": 71,
     "metadata": {},
     "output_type": "execute_result"
    }
   ],
   "source": [
    "# Now, as we have 4 categorical variables , we can go for one hot encoding to converet those to continues variables. \n",
    "# but as opting this approach will unnecessary increase the featues in the data set, we can choose to group the data \n",
    "# and apply the algorithm.\n",
    "\n",
    "# Group the data based on Providers\n",
    "\n",
    "Provider_Charge_group= Provider_Charge.groupby('Provider').agg({'Procedure':'nunique',\n",
    "                                        'State':'nunique',\n",
    "                                        'Region':'nunique',\n",
    "                                         'Service_Count':'sum',\n",
    "                                         'Charges':'sum',\n",
    "                                         'Payments':'sum'\n",
    "                                        }).reset_index()\n",
    "Provider_Charge_group.head()"
   ]
  },
  {
   "cell_type": "code",
   "execution_count": 72,
   "metadata": {},
   "outputs": [],
   "source": [
    "# Before applying the algorithm , standardize the data (so that all the values are in the same scale )using StandardScaler or MinMaxScaler\n",
    "# select the colums which needs to be used\n",
    "Provider_Charge_group_numerical= Provider_Charge_group.select_dtypes(include= ['int', 'float']).copy()"
   ]
  },
  {
   "cell_type": "code",
   "execution_count": 73,
   "metadata": {},
   "outputs": [
    {
     "data": {
      "text/html": [
       "<div>\n",
       "<style scoped>\n",
       "    .dataframe tbody tr th:only-of-type {\n",
       "        vertical-align: middle;\n",
       "    }\n",
       "\n",
       "    .dataframe tbody tr th {\n",
       "        vertical-align: top;\n",
       "    }\n",
       "\n",
       "    .dataframe thead th {\n",
       "        text-align: right;\n",
       "    }\n",
       "</style>\n",
       "<table border=\"1\" class=\"dataframe\">\n",
       "  <thead>\n",
       "    <tr style=\"text-align: right;\">\n",
       "      <th></th>\n",
       "      <th>Procedure</th>\n",
       "      <th>State</th>\n",
       "      <th>Region</th>\n",
       "      <th>Service_Count</th>\n",
       "      <th>Charges</th>\n",
       "      <th>Payments</th>\n",
       "    </tr>\n",
       "  </thead>\n",
       "  <tbody>\n",
       "    <tr>\n",
       "      <th>0</th>\n",
       "      <td>25</td>\n",
       "      <td>1</td>\n",
       "      <td>1</td>\n",
       "      <td>1294</td>\n",
       "      <td>314058.89</td>\n",
       "      <td>121115.80</td>\n",
       "    </tr>\n",
       "    <tr>\n",
       "      <th>1</th>\n",
       "      <td>121</td>\n",
       "      <td>1</td>\n",
       "      <td>1</td>\n",
       "      <td>20810</td>\n",
       "      <td>4495571.85</td>\n",
       "      <td>1065438.89</td>\n",
       "    </tr>\n",
       "  </tbody>\n",
       "</table>\n",
       "</div>"
      ],
      "text/plain": [
       "   Procedure  State  Region  Service_Count     Charges    Payments\n",
       "0         25      1       1           1294   314058.89   121115.80\n",
       "1        121      1       1          20810  4495571.85  1065438.89"
      ]
     },
     "execution_count": 73,
     "metadata": {},
     "output_type": "execute_result"
    }
   ],
   "source": [
    "Provider_Charge_group_numerical.head(2)"
   ]
  },
  {
   "cell_type": "code",
   "execution_count": 74,
   "metadata": {},
   "outputs": [],
   "source": [
    "sc= StandardScaler()"
   ]
  },
  {
   "cell_type": "code",
   "execution_count": 75,
   "metadata": {},
   "outputs": [
    {
     "data": {
      "text/plain": [
       "array([[-1.02133637, -0.13116678, -0.12407333, -0.42405578, -0.79303483,\n",
       "        -0.872222  ],\n",
       "       [ 1.61134588, -0.13116678, -0.12407333,  0.51086368,  1.35101558,\n",
       "         1.31256311],\n",
       "       [ 0.24015721, -0.13116678, -0.12407333, -0.13705524,  0.89885002,\n",
       "         0.04272441],\n",
       "       ...,\n",
       "       [-1.54238806, -0.13116678, -0.12407333, -0.47948219, -0.93054422,\n",
       "        -1.01445851],\n",
       "       [ 1.09029418, -0.13116678, -0.12407333,  0.06754821,  0.66716892,\n",
       "         0.93237595],\n",
       "       [-1.67950693, -0.13116678, -0.12407333, -0.48527872, -0.95028024,\n",
       "        -1.13045448]])"
      ]
     },
     "execution_count": 75,
     "metadata": {},
     "output_type": "execute_result"
    }
   ],
   "source": [
    "sc_model= sc.fit_transform(Provider_Charge_group_numerical)\n",
    "sc_model"
   ]
  },
  {
   "cell_type": "code",
   "execution_count": 76,
   "metadata": {},
   "outputs": [],
   "source": [
    "# Now apply PCA, as we dont know the number of PCs will go with the same # of components as Columns.\n",
    "pca_model = PCA(n_components=6)"
   ]
  },
  {
   "cell_type": "code",
   "execution_count": 77,
   "metadata": {},
   "outputs": [],
   "source": [
    "# fit the standardize model\n",
    "pca_model= pca_model.fit(sc_model)  "
   ]
  },
  {
   "cell_type": "code",
   "execution_count": 78,
   "metadata": {},
   "outputs": [
    {
     "data": {
      "text/plain": [
       "array([3.3887584 , 1.56871252, 0.72007953, 0.22353427, 0.08325248,\n",
       "       0.0175378 ])"
      ]
     },
     "execution_count": 78,
     "metadata": {},
     "output_type": "execute_result"
    }
   ],
   "source": [
    "pca_model.explained_variance_"
   ]
  },
  {
   "cell_type": "code",
   "execution_count": 79,
   "metadata": {},
   "outputs": [
    {
     "data": {
      "text/plain": [
       "array([0.56461662, 0.26137041, 0.11997576, 0.03724407, 0.01387108,\n",
       "       0.00292205])"
      ]
     },
     "execution_count": 79,
     "metadata": {},
     "output_type": "execute_result"
    }
   ],
   "source": [
    "# check the variance ratio\n",
    "pca_model.explained_variance_ratio_"
   ]
  },
  {
   "cell_type": "code",
   "execution_count": 80,
   "metadata": {},
   "outputs": [
    {
     "data": {
      "text/plain": [
       "array([0.56461662, 0.82598703, 0.9459628 , 0.98320687, 0.99707795,\n",
       "       1.        ])"
      ]
     },
     "execution_count": 80,
     "metadata": {},
     "output_type": "execute_result"
    }
   ],
   "source": [
    "# Find the cumulative ratio\n",
    "np.cumsum(pca_model.explained_variance_ratio_)"
   ]
  },
  {
   "cell_type": "code",
   "execution_count": 81,
   "metadata": {},
   "outputs": [],
   "source": [
    "# based on the above cumulative sum, we can see that 3 clusters are defining approx 95% of the data. So wll go with\n",
    "# 3 PCs.\n",
    "pca_model= PCA(n_components=3)\n",
    "pca_model= pca_model.fit_transform(sc_model)"
   ]
  },
  {
   "cell_type": "code",
   "execution_count": 82,
   "metadata": {},
   "outputs": [],
   "source": [
    "#reduced_cr=pca_model.transform(sc_model)"
   ]
  },
  {
   "cell_type": "code",
   "execution_count": 83,
   "metadata": {},
   "outputs": [],
   "source": [
    "#PCs = pd.DataFrame(pca_model.transform(sc_model), columns = ['PC1','PC2','PC3'])\n",
    "PCs = pd.DataFrame(pca_model, columns = ['PC1','PC2','PC3'])"
   ]
  },
  {
   "cell_type": "code",
   "execution_count": 84,
   "metadata": {},
   "outputs": [
    {
     "data": {
      "text/html": [
       "<div>\n",
       "<style scoped>\n",
       "    .dataframe tbody tr th:only-of-type {\n",
       "        vertical-align: middle;\n",
       "    }\n",
       "\n",
       "    .dataframe tbody tr th {\n",
       "        vertical-align: top;\n",
       "    }\n",
       "\n",
       "    .dataframe thead th {\n",
       "        text-align: right;\n",
       "    }\n",
       "</style>\n",
       "<table border=\"1\" class=\"dataframe\">\n",
       "  <thead>\n",
       "    <tr style=\"text-align: right;\">\n",
       "      <th></th>\n",
       "      <th>PC1</th>\n",
       "      <th>PC2</th>\n",
       "      <th>PC3</th>\n",
       "    </tr>\n",
       "  </thead>\n",
       "  <tbody>\n",
       "    <tr>\n",
       "      <th>0</th>\n",
       "      <td>-1.464218</td>\n",
       "      <td>0.668714</td>\n",
       "      <td>0.199495</td>\n",
       "    </tr>\n",
       "    <tr>\n",
       "      <th>1</th>\n",
       "      <td>2.042147</td>\n",
       "      <td>-1.403951</td>\n",
       "      <td>-0.536484</td>\n",
       "    </tr>\n",
       "    <tr>\n",
       "      <th>2</th>\n",
       "      <td>0.410835</td>\n",
       "      <td>-0.369039</td>\n",
       "      <td>-0.515058</td>\n",
       "    </tr>\n",
       "    <tr>\n",
       "      <th>3</th>\n",
       "      <td>2.533271</td>\n",
       "      <td>-1.573796</td>\n",
       "      <td>-1.013894</td>\n",
       "    </tr>\n",
       "    <tr>\n",
       "      <th>4</th>\n",
       "      <td>-0.969895</td>\n",
       "      <td>0.272635</td>\n",
       "      <td>0.124053</td>\n",
       "    </tr>\n",
       "    <tr>\n",
       "      <th>...</th>\n",
       "      <td>...</td>\n",
       "      <td>...</td>\n",
       "      <td>...</td>\n",
       "    </tr>\n",
       "    <tr>\n",
       "      <th>3196</th>\n",
       "      <td>-1.198636</td>\n",
       "      <td>0.506349</td>\n",
       "      <td>0.119391</td>\n",
       "    </tr>\n",
       "    <tr>\n",
       "      <th>3197</th>\n",
       "      <td>4.594544</td>\n",
       "      <td>2.124096</td>\n",
       "      <td>0.727236</td>\n",
       "    </tr>\n",
       "    <tr>\n",
       "      <th>3198</th>\n",
       "      <td>-1.839633</td>\n",
       "      <td>0.940839</td>\n",
       "      <td>0.320519</td>\n",
       "    </tr>\n",
       "    <tr>\n",
       "      <th>3199</th>\n",
       "      <td>1.179285</td>\n",
       "      <td>-0.883840</td>\n",
       "      <td>-0.537595</td>\n",
       "    </tr>\n",
       "    <tr>\n",
       "      <th>3200</th>\n",
       "      <td>-1.968224</td>\n",
       "      <td>1.020989</td>\n",
       "      <td>0.365056</td>\n",
       "    </tr>\n",
       "  </tbody>\n",
       "</table>\n",
       "<p>3201 rows × 3 columns</p>\n",
       "</div>"
      ],
      "text/plain": [
       "           PC1       PC2       PC3\n",
       "0    -1.464218  0.668714  0.199495\n",
       "1     2.042147 -1.403951 -0.536484\n",
       "2     0.410835 -0.369039 -0.515058\n",
       "3     2.533271 -1.573796 -1.013894\n",
       "4    -0.969895  0.272635  0.124053\n",
       "...        ...       ...       ...\n",
       "3196 -1.198636  0.506349  0.119391\n",
       "3197  4.594544  2.124096  0.727236\n",
       "3198 -1.839633  0.940839  0.320519\n",
       "3199  1.179285 -0.883840 -0.537595\n",
       "3200 -1.968224  1.020989  0.365056\n",
       "\n",
       "[3201 rows x 3 columns]"
      ]
     },
     "execution_count": 84,
     "metadata": {},
     "output_type": "execute_result"
    }
   ],
   "source": [
    "PCs"
   ]
  },
  {
   "cell_type": "raw",
   "metadata": {},
   "source": [
    "Factor Loading Matrix\n",
    "Loadings=Eigenvectors * sqrt(Eigenvalues)\n",
    "\n",
    "loadings are the covariances/correlations between the original variables and the unit-scaled components. We can skip this part as we dont have many featurs here."
   ]
  },
  {
   "cell_type": "code",
   "execution_count": 85,
   "metadata": {},
   "outputs": [
    {
     "data": {
      "text/plain": [
       "(3201, 3)"
      ]
     },
     "execution_count": 85,
     "metadata": {},
     "output_type": "execute_result"
    }
   ],
   "source": [
    "pca_model.shape"
   ]
  },
  {
   "cell_type": "markdown",
   "metadata": {},
   "source": [
    "#### Clustering"
   ]
  },
  {
   "cell_type": "code",
   "execution_count": 86,
   "metadata": {},
   "outputs": [],
   "source": [
    "# Lets go with basic cluters as 3.\n",
    "km_3 = KMeans(n_clusters=3, random_state=123)\n",
    "km_3 = km_3.fit(sc_model)"
   ]
  },
  {
   "cell_type": "code",
   "execution_count": 87,
   "metadata": {},
   "outputs": [
    {
     "data": {
      "text/plain": [
       "array([[ 0.98887563, -0.0193167 , -0.02616768,  0.4376032 ,  0.78938539,\n",
       "         0.8610257 ],\n",
       "       [-0.73238344, -0.10914397, -0.10479612, -0.33204422, -0.61365977,\n",
       "        -0.67442689],\n",
       "       [ 1.41937946,  9.46251971,  9.50850775,  1.23892214,  3.36420542,\n",
       "         4.05964061]])"
      ]
     },
     "execution_count": 87,
     "metadata": {},
     "output_type": "execute_result"
    }
   ],
   "source": [
    "km_3.cluster_centers_"
   ]
  },
  {
   "cell_type": "code",
   "execution_count": 88,
   "metadata": {},
   "outputs": [
    {
     "data": {
      "text/plain": [
       "array([1, 0, 0, ..., 1, 0, 1], dtype=int32)"
      ]
     },
     "execution_count": 88,
     "metadata": {},
     "output_type": "execute_result"
    }
   ],
   "source": [
    "km_3.labels_"
   ]
  },
  {
   "cell_type": "code",
   "execution_count": 89,
   "metadata": {},
   "outputs": [],
   "source": [
    "# As we dont know how many clusters should get formred to give the optimum solution, We will use Silhoutte score to \n",
    "# decide the number of clusters.\n",
    "\n",
    "# Choosing best solution (optimal solution) - Identifying best value of K\n",
    "# #Metrics:  Silhoutte coeficient\tbetween -1 & 1\t\n",
    "# #\t\tCloser to 1, segmentation is good\t\n",
    "# #\t\tcloser to -1, segmentation is bad\t\n",
    "\n",
    "# calculate SC for K=3 through K=25\n",
    "k_range = range(3, 25)\n",
    "scores = []\n",
    "for k in k_range:\n",
    "    km = KMeans(n_clusters=k, random_state=123)\n",
    "    km.fit(sc_model)\n",
    "    scores.append(silhouette_score(sc_model, km.labels_))"
   ]
  },
  {
   "cell_type": "code",
   "execution_count": 90,
   "metadata": {},
   "outputs": [
    {
     "data": {
      "text/plain": [
       "[0.5201153893322814,\n",
       " 0.5355898254291706,\n",
       " 0.551578706076644,\n",
       " 0.4512028509523021,\n",
       " 0.4298649984500968,\n",
       " 0.4307024349490074,\n",
       " 0.43351059323590646,\n",
       " 0.4286803536954785,\n",
       " 0.3987114448698579,\n",
       " 0.3915561282430433,\n",
       " 0.3926312399568165,\n",
       " 0.36474338724695204,\n",
       " 0.36770612570751443,\n",
       " 0.34353253637601694,\n",
       " 0.3432274212041798,\n",
       " 0.34870810023650983,\n",
       " 0.3373473950495025,\n",
       " 0.3342704009196643,\n",
       " 0.3211933790374663,\n",
       " 0.34842544015600235,\n",
       " 0.33073641658216285,\n",
       " 0.32761226092630685]"
      ]
     },
     "execution_count": 90,
     "metadata": {},
     "output_type": "execute_result"
    }
   ],
   "source": [
    "scores"
   ]
  },
  {
   "cell_type": "code",
   "execution_count": 91,
   "metadata": {},
   "outputs": [
    {
     "data": {
      "image/png": "[encoded data removed]",
      "text/plain": [
       "<Figure size 720x540 with 1 Axes>"
      ]
     },
     "metadata": {
      "needs_background": "light"
     },
     "output_type": "display_data"
    }
   ],
   "source": [
    "# plot the results\n",
    "plt.plot(k_range, scores)\n",
    "plt.xlabel('Number of clusters')\n",
    "plt.ylabel('Silhouette Coefficient')\n",
    "plt.grid(True)"
   ]
  },
  {
   "cell_type": "markdown",
   "metadata": {},
   "source": [
    "Based on the above scores and plot , we can see that 21 is having the least Cofficient. i.e most scattered cluster \n",
    "Hence , we will consider 21 cluster solution. \n",
    "\n"
   ]
  },
  {
   "cell_type": "code",
   "execution_count": 92,
   "metadata": {},
   "outputs": [],
   "source": [
    "# 21 Cluster solution:\n",
    "km_21 = KMeans(n_clusters=21, random_state=123)\n",
    "km_21 = km_21.fit(sc_model)"
   ]
  },
  {
   "cell_type": "code",
   "execution_count": 93,
   "metadata": {},
   "outputs": [
    {
     "data": {
      "text/plain": [
       "array([ 6, 19,  5, ..., 17, 19, 17], dtype=int32)"
      ]
     },
     "execution_count": 93,
     "metadata": {},
     "output_type": "execute_result"
    }
   ],
   "source": [
    "km_21.labels_"
   ]
  },
  {
   "cell_type": "code",
   "execution_count": 94,
   "metadata": {},
   "outputs": [
    {
     "data": {
      "text/plain": [
       "array([[ 1.08829972e+00, -1.31166782e-01, -1.24073329e-01,\n",
       "         4.06759620e-02,  3.00209646e+00,  1.54952079e+00],\n",
       "       [-3.51663421e-01, -1.31166782e-01, -1.24073329e-01,\n",
       "        -2.39168071e-01, -5.24035142e-01, -5.09906414e-01],\n",
       "       [ 1.59763399e+00,  1.51058647e+01,  1.46952822e+01,\n",
       "         1.93567051e+00,  4.83640253e+00,  5.99470368e+00],\n",
       "       [ 1.44585759e+00, -1.31166782e-01, -1.24073329e-01,\n",
       "         1.09300148e+00,  9.23828593e-01,  1.71359866e+00],\n",
       "       [ 1.26169276e+00,  6.35867997e+00,  6.05065813e+00,\n",
       "         8.95219717e-01,  1.57568089e+00,  2.30539355e+00],\n",
       "       [ 5.37697221e-01, -1.31166782e-01, -1.24073329e-01,\n",
       "        -1.85795403e-01,  1.01208830e+00,  4.16270384e-01],\n",
       "       [-8.89208049e-01, -1.31166782e-01, -1.24073329e-01,\n",
       "        -3.67229110e-01, -7.37982255e-01, -8.16339047e-01],\n",
       "       [ 1.69361720e+00, -1.31166782e-01, -1.24073329e-01,\n",
       "         1.61546364e+01,  6.37855239e-01,  1.45824754e+00],\n",
       "       [ 1.42905844e+00,  3.25484022e+00,  2.83979777e+00,\n",
       "         8.98138416e-01,  1.94509574e+00,  2.22483109e+00],\n",
       "       [ 1.50761247e+00, -1.31166782e-01, -1.24073329e-01,\n",
       "         6.45751067e+00,  8.19014602e-01,  1.76484738e+00],\n",
       "       [ 1.45343429e-02,  3.25484022e+00,  2.83979777e+00,\n",
       "        -6.46246348e-02, -1.91247911e-01, -5.31958058e-02],\n",
       "       [ 1.03970999e+00, -1.31166782e-01, -1.24073329e-01,\n",
       "         7.59237853e-02,  1.41153093e-01,  8.10482888e-01],\n",
       "       [ 3.26803944e-03, -1.31166782e-01, -1.24073329e-01,\n",
       "        -2.63932452e-01, -7.34590120e-02, -1.38773186e-01],\n",
       "       [ 1.69361720e+00,  1.67988682e+01,  2.35868955e+01,\n",
       "         2.82727560e+00,  1.34927549e+01,  1.50238536e+01],\n",
       "       [ 1.07325226e+00, -1.31166782e-01, -1.24073329e-01,\n",
       "        -2.81316365e-02,  1.87179384e+00,  9.67772563e-01],\n",
       "       [ 1.02425326e+00, -1.31166782e-01, -1.24073329e-01,\n",
       "         2.94752763e+00,  2.73469147e-01,  9.04949179e-01],\n",
       "       [ 5.54813951e-01, -1.31166782e-01, -1.24073329e-01,\n",
       "        -3.67889886e-02, -4.51658015e-02,  2.32813546e-01],\n",
       "       [-1.42751660e+00, -1.31166782e-01, -1.24073329e-01,\n",
       "        -4.45718486e-01, -8.89292777e-01, -1.04171216e+00],\n",
       "       [ 1.52515687e+00, -1.31166782e-01, -1.24073329e-01,\n",
       "         4.25677259e+00,  2.71729343e+00,  2.45522936e+00],\n",
       "       [ 1.32148424e+00, -1.31166782e-01, -1.24073329e-01,\n",
       "         3.39717195e-01,  7.43927455e-01,  9.66554830e-01],\n",
       "       [ 1.52907456e+00,  8.67245141e+00,  8.76753998e+00,\n",
       "         9.10039215e-01,  3.86431783e+00,  3.75491526e+00]])"
      ]
     },
     "execution_count": 94,
     "metadata": {},
     "output_type": "execute_result"
    }
   ],
   "source": [
    "km_21.cluster_centers_"
   ]
  },
  {
   "cell_type": "code",
   "execution_count": 95,
   "metadata": {},
   "outputs": [
    {
     "data": {
      "text/plain": [
       "6     566\n",
       "17    498\n",
       "1     422\n",
       "12    314\n",
       "16    287\n",
       "19    251\n",
       "11    238\n",
       "5     174\n",
       "14    140\n",
       "3      87\n",
       "0      55\n",
       "15     49\n",
       "8      34\n",
       "9      23\n",
       "10     22\n",
       "18     14\n",
       "4      12\n",
       "2       6\n",
       "20      5\n",
       "7       3\n",
       "13      1\n",
       "dtype: int64"
      ]
     },
     "execution_count": 95,
     "metadata": {},
     "output_type": "execute_result"
    }
   ],
   "source": [
    "# count the values in each cluters\n",
    "pd.Series(km_21.labels_).value_counts()"
   ]
  },
  {
   "cell_type": "markdown",
   "metadata": {},
   "source": [
    "From the above results we can see that, cluster 20, 7 and 13 are the least similar providers."
   ]
  },
  {
   "cell_type": "code",
   "execution_count": 96,
   "metadata": {},
   "outputs": [
    {
     "data": {
      "text/plain": [
       "Text(0.5, 0, 'PC_21')"
      ]
     },
     "execution_count": 96,
     "metadata": {},
     "output_type": "execute_result"
    },
    {
     "data": {
      "image/png": "[encoded data removed]",
      "text/plain": [
       "<Figure size 720x720 with 1 Axes>"
      ]
     },
     "metadata": {
      "needs_background": "light"
     },
     "output_type": "display_data"
    }
   ],
   "source": [
    "# scatter plot \n",
    "plt.figure(figsize=(10,10))\n",
    "plt.scatter(pca_model[:,0], pca_model[:,1], c=km_21.labels_,alpha=0.5, cmap='Spectral')\n",
    "plt.xlabel('PC_21')"
   ]
  },
  {
   "cell_type": "code",
   "execution_count": 97,
   "metadata": {},
   "outputs": [],
   "source": [
    "cluster_df_21=pd.concat([Provider_Charge_group, pd.Series(km_21.labels_, name='Cluster_21')], axis=1)\n",
    "\n",
    "cluster_df_21.to_csv('cluster_df_21.csv')"
   ]
  },
  {
   "cell_type": "code",
   "execution_count": 98,
   "metadata": {},
   "outputs": [
    {
     "data": {
      "text/html": [
       "<div>\n",
       "<style scoped>\n",
       "    .dataframe tbody tr th:only-of-type {\n",
       "        vertical-align: middle;\n",
       "    }\n",
       "\n",
       "    .dataframe tbody tr th {\n",
       "        vertical-align: top;\n",
       "    }\n",
       "\n",
       "    .dataframe thead th {\n",
       "        text-align: right;\n",
       "    }\n",
       "</style>\n",
       "<table border=\"1\" class=\"dataframe\">\n",
       "  <thead>\n",
       "    <tr style=\"text-align: right;\">\n",
       "      <th></th>\n",
       "      <th>Unnamed: 0</th>\n",
       "      <th>Provider</th>\n",
       "      <th>Procedure</th>\n",
       "      <th>State</th>\n",
       "      <th>Region</th>\n",
       "      <th>Service_Count</th>\n",
       "      <th>Charges</th>\n",
       "      <th>Payments</th>\n",
       "      <th>Cluster_21</th>\n",
       "    </tr>\n",
       "  </thead>\n",
       "  <tbody>\n",
       "    <tr>\n",
       "      <th>0</th>\n",
       "      <td>0</td>\n",
       "      <td>ABBEVILLE GENERAL HOSPITAL</td>\n",
       "      <td>25</td>\n",
       "      <td>1</td>\n",
       "      <td>1</td>\n",
       "      <td>1294</td>\n",
       "      <td>314058.89</td>\n",
       "      <td>121115.80</td>\n",
       "      <td>6</td>\n",
       "    </tr>\n",
       "    <tr>\n",
       "      <th>1</th>\n",
       "      <td>1</td>\n",
       "      <td>ABBOTT NORTHWESTERN HOSPITAL</td>\n",
       "      <td>121</td>\n",
       "      <td>1</td>\n",
       "      <td>1</td>\n",
       "      <td>20810</td>\n",
       "      <td>4495571.85</td>\n",
       "      <td>1065438.89</td>\n",
       "      <td>19</td>\n",
       "    </tr>\n",
       "    <tr>\n",
       "      <th>2</th>\n",
       "      <td>2</td>\n",
       "      <td>ABILENE REGIONAL MEDICAL CENTER</td>\n",
       "      <td>71</td>\n",
       "      <td>1</td>\n",
       "      <td>1</td>\n",
       "      <td>7285</td>\n",
       "      <td>3613719.38</td>\n",
       "      <td>516580.33</td>\n",
       "      <td>5</td>\n",
       "    </tr>\n",
       "    <tr>\n",
       "      <th>3</th>\n",
       "      <td>3</td>\n",
       "      <td>ABINGTON MEMORIAL HOSPITAL</td>\n",
       "      <td>121</td>\n",
       "      <td>1</td>\n",
       "      <td>1</td>\n",
       "      <td>19300</td>\n",
       "      <td>6832266.25</td>\n",
       "      <td>1027582.36</td>\n",
       "      <td>0</td>\n",
       "    </tr>\n",
       "    <tr>\n",
       "      <th>4</th>\n",
       "      <td>4</td>\n",
       "      <td>ACMH HOSPITAL</td>\n",
       "      <td>54</td>\n",
       "      <td>1</td>\n",
       "      <td>1</td>\n",
       "      <td>4151</td>\n",
       "      <td>406719.05</td>\n",
       "      <td>199332.50</td>\n",
       "      <td>1</td>\n",
       "    </tr>\n",
       "    <tr>\n",
       "      <th>...</th>\n",
       "      <td>...</td>\n",
       "      <td>...</td>\n",
       "      <td>...</td>\n",
       "      <td>...</td>\n",
       "      <td>...</td>\n",
       "      <td>...</td>\n",
       "      <td>...</td>\n",
       "      <td>...</td>\n",
       "      <td>...</td>\n",
       "    </tr>\n",
       "    <tr>\n",
       "      <th>3196</th>\n",
       "      <td>3196</td>\n",
       "      <td>YAVAPAI REGIONAL MEDICAL CENTER-EAST</td>\n",
       "      <td>34</td>\n",
       "      <td>1</td>\n",
       "      <td>1</td>\n",
       "      <td>2110</td>\n",
       "      <td>542078.31</td>\n",
       "      <td>201164.86</td>\n",
       "      <td>6</td>\n",
       "    </tr>\n",
       "    <tr>\n",
       "      <th>3197</th>\n",
       "      <td>3197</td>\n",
       "      <td>YORK HOSPITAL</td>\n",
       "      <td>122</td>\n",
       "      <td>2</td>\n",
       "      <td>2</td>\n",
       "      <td>35048</td>\n",
       "      <td>3139751.07</td>\n",
       "      <td>1394482.57</td>\n",
       "      <td>8</td>\n",
       "    </tr>\n",
       "    <tr>\n",
       "      <th>3198</th>\n",
       "      <td>3198</td>\n",
       "      <td>YUKON KUSKOKWIM DELTA REG HOSPITAL</td>\n",
       "      <td>6</td>\n",
       "      <td>1</td>\n",
       "      <td>1</td>\n",
       "      <td>137</td>\n",
       "      <td>45876.15</td>\n",
       "      <td>59637.34</td>\n",
       "      <td>17</td>\n",
       "    </tr>\n",
       "    <tr>\n",
       "      <th>3199</th>\n",
       "      <td>3199</td>\n",
       "      <td>YUMA REGIONAL MEDICAL CENTER</td>\n",
       "      <td>102</td>\n",
       "      <td>1</td>\n",
       "      <td>1</td>\n",
       "      <td>11556</td>\n",
       "      <td>3161874.81</td>\n",
       "      <td>901111.74</td>\n",
       "      <td>19</td>\n",
       "    </tr>\n",
       "    <tr>\n",
       "      <th>3200</th>\n",
       "      <td>3200</td>\n",
       "      <td>ZUNI COMPREHENSIVE COMMUNITY HEALTH CENTER</td>\n",
       "      <td>1</td>\n",
       "      <td>1</td>\n",
       "      <td>1</td>\n",
       "      <td>16</td>\n",
       "      <td>7385.25</td>\n",
       "      <td>9500.75</td>\n",
       "      <td>17</td>\n",
       "    </tr>\n",
       "  </tbody>\n",
       "</table>\n",
       "<p>3201 rows × 9 columns</p>\n",
       "</div>"
      ],
      "text/plain": [
       "      Unnamed: 0                                    Provider  Procedure  \\\n",
       "0              0                  ABBEVILLE GENERAL HOSPITAL         25   \n",
       "1              1                ABBOTT NORTHWESTERN HOSPITAL        121   \n",
       "2              2             ABILENE REGIONAL MEDICAL CENTER         71   \n",
       "3              3                  ABINGTON MEMORIAL HOSPITAL        121   \n",
       "4              4                               ACMH HOSPITAL         54   \n",
       "...          ...                                         ...        ...   \n",
       "3196        3196        YAVAPAI REGIONAL MEDICAL CENTER-EAST         34   \n",
       "3197        3197                               YORK HOSPITAL        122   \n",
       "3198        3198          YUKON KUSKOKWIM DELTA REG HOSPITAL          6   \n",
       "3199        3199                YUMA REGIONAL MEDICAL CENTER        102   \n",
       "3200        3200  ZUNI COMPREHENSIVE COMMUNITY HEALTH CENTER          1   \n",
       "\n",
       "      State  Region  Service_Count     Charges    Payments  Cluster_21  \n",
       "0         1       1           1294   314058.89   121115.80           6  \n",
       "1         1       1          20810  4495571.85  1065438.89          19  \n",
       "2         1       1           7285  3613719.38   516580.33           5  \n",
       "3         1       1          19300  6832266.25  1027582.36           0  \n",
       "4         1       1           4151   406719.05   199332.50           1  \n",
       "...     ...     ...            ...         ...         ...         ...  \n",
       "3196      1       1           2110   542078.31   201164.86           6  \n",
       "3197      2       2          35048  3139751.07  1394482.57           8  \n",
       "3198      1       1            137    45876.15    59637.34          17  \n",
       "3199      1       1          11556  3161874.81   901111.74          19  \n",
       "3200      1       1             16     7385.25     9500.75          17  \n",
       "\n",
       "[3201 rows x 9 columns]"
      ]
     },
     "execution_count": 98,
     "metadata": {},
     "output_type": "execute_result"
    }
   ],
   "source": [
    "pd.read_csv('cluster_df_21.csv')"
   ]
  },
  {
   "attachments": {
    "image.png": {
     "image/png": "[encoded data removed]"
    }
   },
   "cell_type": "markdown",
   "metadata": {},
   "source": [
    "Based on the above scatter plot and csv generated based on this, we can see that these are the list of provider with least similarity.\n",
    "\n",
    "![image.png](attachment:image.png)"
   ]
  },
  {
   "cell_type": "markdown",
   "metadata": {},
   "source": [
    "************************************\n",
    "********************************"
   ]
  },
  {
   "cell_type": "markdown",
   "metadata": {},
   "source": [
    "##### Part 2B : Find three regions that are least similar to other region\n",
    "\n"
   ]
  },
  {
   "cell_type": "code",
   "execution_count": 118,
   "metadata": {},
   "outputs": [
    {
     "data": {
      "text/html": [
       "<div>\n",
       "<style scoped>\n",
       "    .dataframe tbody tr th:only-of-type {\n",
       "        vertical-align: middle;\n",
       "    }\n",
       "\n",
       "    .dataframe tbody tr th {\n",
       "        vertical-align: top;\n",
       "    }\n",
       "\n",
       "    .dataframe thead th {\n",
       "        text-align: right;\n",
       "    }\n",
       "</style>\n",
       "<table border=\"1\" class=\"dataframe\">\n",
       "  <thead>\n",
       "    <tr style=\"text-align: right;\">\n",
       "      <th></th>\n",
       "      <th>Procedure</th>\n",
       "      <th>Provider</th>\n",
       "      <th>State</th>\n",
       "      <th>Region</th>\n",
       "      <th>Service_Count</th>\n",
       "      <th>Charges</th>\n",
       "      <th>Payments</th>\n",
       "    </tr>\n",
       "  </thead>\n",
       "  <tbody>\n",
       "    <tr>\n",
       "      <th>0</th>\n",
       "      <td>039 - EXTRACRANIAL PROCEDURES W/O CC/MCC</td>\n",
       "      <td>SOUTHEAST ALABAMA MEDICAL CENTER</td>\n",
       "      <td>AL</td>\n",
       "      <td>AL - Dothan</td>\n",
       "      <td>91</td>\n",
       "      <td>32963.08</td>\n",
       "      <td>5777.24</td>\n",
       "    </tr>\n",
       "    <tr>\n",
       "      <th>1</th>\n",
       "      <td>039 - EXTRACRANIAL PROCEDURES W/O CC/MCC</td>\n",
       "      <td>MARSHALL MEDICAL CENTER SOUTH</td>\n",
       "      <td>AL</td>\n",
       "      <td>AL - Birmingham</td>\n",
       "      <td>14</td>\n",
       "      <td>15131.86</td>\n",
       "      <td>5787.57</td>\n",
       "    </tr>\n",
       "    <tr>\n",
       "      <th>2</th>\n",
       "      <td>039 - EXTRACRANIAL PROCEDURES W/O CC/MCC</td>\n",
       "      <td>ELIZA COFFEE MEMORIAL HOSPITAL</td>\n",
       "      <td>AL</td>\n",
       "      <td>AL - Birmingham</td>\n",
       "      <td>24</td>\n",
       "      <td>37560.38</td>\n",
       "      <td>5434.96</td>\n",
       "    </tr>\n",
       "    <tr>\n",
       "      <th>3</th>\n",
       "      <td>039 - EXTRACRANIAL PROCEDURES W/O CC/MCC</td>\n",
       "      <td>ST VINCENT'S EAST</td>\n",
       "      <td>AL</td>\n",
       "      <td>AL - Birmingham</td>\n",
       "      <td>25</td>\n",
       "      <td>13998.28</td>\n",
       "      <td>5417.56</td>\n",
       "    </tr>\n",
       "    <tr>\n",
       "      <th>4</th>\n",
       "      <td>039 - EXTRACRANIAL PROCEDURES W/O CC/MCC</td>\n",
       "      <td>SHELBY BAPTIST MEDICAL CENTER</td>\n",
       "      <td>AL</td>\n",
       "      <td>AL - Birmingham</td>\n",
       "      <td>18</td>\n",
       "      <td>31633.28</td>\n",
       "      <td>5658.33</td>\n",
       "    </tr>\n",
       "  </tbody>\n",
       "</table>\n",
       "</div>"
      ],
      "text/plain": [
       "                                  Procedure                          Provider  \\\n",
       "0  039 - EXTRACRANIAL PROCEDURES W/O CC/MCC  SOUTHEAST ALABAMA MEDICAL CENTER   \n",
       "1  039 - EXTRACRANIAL PROCEDURES W/O CC/MCC     MARSHALL MEDICAL CENTER SOUTH   \n",
       "2  039 - EXTRACRANIAL PROCEDURES W/O CC/MCC    ELIZA COFFEE MEMORIAL HOSPITAL   \n",
       "3  039 - EXTRACRANIAL PROCEDURES W/O CC/MCC                 ST VINCENT'S EAST   \n",
       "4  039 - EXTRACRANIAL PROCEDURES W/O CC/MCC     SHELBY BAPTIST MEDICAL CENTER   \n",
       "\n",
       "  State           Region  Service_Count   Charges  Payments  \n",
       "0    AL      AL - Dothan             91  32963.08   5777.24  \n",
       "1    AL  AL - Birmingham             14  15131.86   5787.57  \n",
       "2    AL  AL - Birmingham             24  37560.38   5434.96  \n",
       "3    AL  AL - Birmingham             25  13998.28   5417.56  \n",
       "4    AL  AL - Birmingham             18  31633.28   5658.33  "
      ]
     },
     "execution_count": 118,
     "metadata": {},
     "output_type": "execute_result"
    }
   ],
   "source": [
    "Provider_Charge.head()"
   ]
  },
  {
   "cell_type": "code",
   "execution_count": null,
   "metadata": {},
   "outputs": [],
   "source": []
  },
  {
   "cell_type": "code",
   "execution_count": 119,
   "metadata": {},
   "outputs": [],
   "source": [
    "# Group the data based on Regions\n",
    "\n",
    "Provider_Charge_region= Provider_Charge.groupby('Region').agg({'Procedure':'nunique',\n",
    "                                        'State':'nunique',\n",
    "                                        'Region':'nunique',\n",
    "                                         'Service_Count':'sum',\n",
    "                                         'Charges':'sum',\n",
    "                                         'Payments':'sum'\n",
    "                                        }).reset_index(drop= True)"
   ]
  },
  {
   "cell_type": "code",
   "execution_count": 120,
   "metadata": {},
   "outputs": [
    {
     "data": {
      "text/html": [
       "<div>\n",
       "<style scoped>\n",
       "    .dataframe tbody tr th:only-of-type {\n",
       "        vertical-align: middle;\n",
       "    }\n",
       "\n",
       "    .dataframe tbody tr th {\n",
       "        vertical-align: top;\n",
       "    }\n",
       "\n",
       "    .dataframe thead th {\n",
       "        text-align: right;\n",
       "    }\n",
       "</style>\n",
       "<table border=\"1\" class=\"dataframe\">\n",
       "  <thead>\n",
       "    <tr style=\"text-align: right;\">\n",
       "      <th></th>\n",
       "      <th>Procedure</th>\n",
       "      <th>State</th>\n",
       "      <th>Region</th>\n",
       "      <th>Service_Count</th>\n",
       "      <th>Charges</th>\n",
       "      <th>Payments</th>\n",
       "    </tr>\n",
       "  </thead>\n",
       "  <tbody>\n",
       "    <tr>\n",
       "      <th>0</th>\n",
       "      <td>100</td>\n",
       "      <td>1</td>\n",
       "      <td>1</td>\n",
       "      <td>31406</td>\n",
       "      <td>9427445.52</td>\n",
       "      <td>3390445.95</td>\n",
       "    </tr>\n",
       "    <tr>\n",
       "      <th>1</th>\n",
       "      <td>127</td>\n",
       "      <td>2</td>\n",
       "      <td>1</td>\n",
       "      <td>166237</td>\n",
       "      <td>68364063.11</td>\n",
       "      <td>14648212.20</td>\n",
       "    </tr>\n",
       "    <tr>\n",
       "      <th>2</th>\n",
       "      <td>122</td>\n",
       "      <td>3</td>\n",
       "      <td>1</td>\n",
       "      <td>43700</td>\n",
       "      <td>9561883.16</td>\n",
       "      <td>2419670.08</td>\n",
       "    </tr>\n",
       "    <tr>\n",
       "      <th>3</th>\n",
       "      <td>125</td>\n",
       "      <td>2</td>\n",
       "      <td>1</td>\n",
       "      <td>71691</td>\n",
       "      <td>11754072.47</td>\n",
       "      <td>3090569.68</td>\n",
       "    </tr>\n",
       "    <tr>\n",
       "      <th>4</th>\n",
       "      <td>125</td>\n",
       "      <td>2</td>\n",
       "      <td>1</td>\n",
       "      <td>70394</td>\n",
       "      <td>16193817.95</td>\n",
       "      <td>4256181.67</td>\n",
       "    </tr>\n",
       "  </tbody>\n",
       "</table>\n",
       "</div>"
      ],
      "text/plain": [
       "   Procedure  State  Region  Service_Count      Charges     Payments\n",
       "0        100      1       1          31406   9427445.52   3390445.95\n",
       "1        127      2       1         166237  68364063.11  14648212.20\n",
       "2        122      3       1          43700   9561883.16   2419670.08\n",
       "3        125      2       1          71691  11754072.47   3090569.68\n",
       "4        125      2       1          70394  16193817.95   4256181.67"
      ]
     },
     "execution_count": 120,
     "metadata": {},
     "output_type": "execute_result"
    }
   ],
   "source": [
    "Provider_Charge_region.head()"
   ]
  },
  {
   "cell_type": "code",
   "execution_count": 121,
   "metadata": {},
   "outputs": [],
   "source": [
    "# Before applying the algorithm , standardize the data (so that all the values are in the same scale )using StandardScaler or MinMaxScaler\n",
    "# select the colums which needs to be used\n",
    "Provider_Charge_region_numerical= Provider_Charge_region.select_dtypes(include= ['int', 'float']).copy()"
   ]
  },
  {
   "cell_type": "code",
   "execution_count": 122,
   "metadata": {},
   "outputs": [
    {
     "data": {
      "text/html": [
       "<div>\n",
       "<style scoped>\n",
       "    .dataframe tbody tr th:only-of-type {\n",
       "        vertical-align: middle;\n",
       "    }\n",
       "\n",
       "    .dataframe tbody tr th {\n",
       "        vertical-align: top;\n",
       "    }\n",
       "\n",
       "    .dataframe thead th {\n",
       "        text-align: right;\n",
       "    }\n",
       "</style>\n",
       "<table border=\"1\" class=\"dataframe\">\n",
       "  <thead>\n",
       "    <tr style=\"text-align: right;\">\n",
       "      <th></th>\n",
       "      <th>Procedure</th>\n",
       "      <th>State</th>\n",
       "      <th>Region</th>\n",
       "      <th>Service_Count</th>\n",
       "      <th>Charges</th>\n",
       "      <th>Payments</th>\n",
       "    </tr>\n",
       "  </thead>\n",
       "  <tbody>\n",
       "    <tr>\n",
       "      <th>0</th>\n",
       "      <td>100</td>\n",
       "      <td>1</td>\n",
       "      <td>1</td>\n",
       "      <td>31406</td>\n",
       "      <td>9427445.52</td>\n",
       "      <td>3390445.95</td>\n",
       "    </tr>\n",
       "    <tr>\n",
       "      <th>1</th>\n",
       "      <td>127</td>\n",
       "      <td>2</td>\n",
       "      <td>1</td>\n",
       "      <td>166237</td>\n",
       "      <td>68364063.11</td>\n",
       "      <td>14648212.20</td>\n",
       "    </tr>\n",
       "  </tbody>\n",
       "</table>\n",
       "</div>"
      ],
      "text/plain": [
       "   Procedure  State  Region  Service_Count      Charges     Payments\n",
       "0        100      1       1          31406   9427445.52   3390445.95\n",
       "1        127      2       1         166237  68364063.11  14648212.20"
      ]
     },
     "execution_count": 122,
     "metadata": {},
     "output_type": "execute_result"
    }
   ],
   "source": [
    "Provider_Charge_region_numerical.head(2)"
   ]
  },
  {
   "cell_type": "code",
   "execution_count": 125,
   "metadata": {},
   "outputs": [],
   "source": [
    "sc_region= StandardScaler()"
   ]
  },
  {
   "cell_type": "code",
   "execution_count": 126,
   "metadata": {},
   "outputs": [
    {
     "data": {
      "text/plain": [
       "array([[-1.74349159, -0.57947894,  0.        , -0.54870147, -0.40299361,\n",
       "        -0.32131729],\n",
       "       [ 0.71004742,  1.19372661,  0.        ,  0.44130553,  1.96336381,\n",
       "         1.66598482],\n",
       "       [ 0.25568834,  2.96693215,  0.        , -0.45843183, -0.39759582,\n",
       "        -0.49268565],\n",
       "       ...,\n",
       "       [ 0.52830379,  1.19372661,  0.        , -0.02224604, -0.41811214,\n",
       "        -0.34818004],\n",
       "       [ 0.6191756 ,  2.96693215,  0.        , -0.41888471, -0.4719957 ,\n",
       "        -0.31527195],\n",
       "       [-2.74308156, -0.57947894,  0.        , -0.72784566, -0.63891564,\n",
       "        -0.69720297]])"
      ]
     },
     "execution_count": 126,
     "metadata": {},
     "output_type": "execute_result"
    }
   ],
   "source": [
    "sc_model_region= sc.fit_transform(Provider_Charge_region_numerical)\n",
    "sc_model_region"
   ]
  },
  {
   "cell_type": "code",
   "execution_count": 127,
   "metadata": {},
   "outputs": [],
   "source": [
    "# Now apply PCA, as we dont know the number of PCs will go with the same # of components as Columns.\n",
    "pca_model_region = PCA(n_components=6)"
   ]
  },
  {
   "cell_type": "code",
   "execution_count": 129,
   "metadata": {},
   "outputs": [],
   "source": [
    "# fit the standardize model\n",
    "pca_model_region= pca_model_region.fit(sc_model_region)  "
   ]
  },
  {
   "cell_type": "code",
   "execution_count": 130,
   "metadata": {},
   "outputs": [
    {
     "data": {
      "text/plain": [
       "array([2.83994063e+00, 1.02817514e+00, 6.60236897e-01, 4.24629089e-01,\n",
       "       6.34116927e-02, 1.59323012e-34])"
      ]
     },
     "execution_count": 130,
     "metadata": {},
     "output_type": "execute_result"
    }
   ],
   "source": [
    "pca_model_region.explained_variance_"
   ]
  },
  {
   "cell_type": "code",
   "execution_count": 131,
   "metadata": {},
   "outputs": [
    {
     "data": {
      "text/plain": [
       "array([5.66131955e-01, 2.04963018e-01, 1.31615852e-01, 8.46482825e-02,\n",
       "       1.26408930e-02, 3.17604698e-35])"
      ]
     },
     "execution_count": 131,
     "metadata": {},
     "output_type": "execute_result"
    }
   ],
   "source": [
    "# check the variance ratio\n",
    "pca_model_region.explained_variance_ratio_"
   ]
  },
  {
   "cell_type": "code",
   "execution_count": 132,
   "metadata": {},
   "outputs": [
    {
     "data": {
      "text/plain": [
       "array([0.56613195, 0.77109497, 0.90271082, 0.98735911, 1.        ,\n",
       "       1.        ])"
      ]
     },
     "execution_count": 132,
     "metadata": {},
     "output_type": "execute_result"
    }
   ],
   "source": [
    "# Find the cumulative ratio\n",
    "np.cumsum(pca_model_region.explained_variance_ratio_)"
   ]
  },
  {
   "cell_type": "code",
   "execution_count": 145,
   "metadata": {},
   "outputs": [],
   "source": [
    "# based on the above cumulative sum, we can see that 4 clusters are defining approx 98% of the data. So wll go with\n",
    "# 4 PCs.\n",
    "pca_model_region= PCA(n_components=4)\n",
    "pca_model_region= pca_model_region.fit_transform(sc_model_region)"
   ]
  },
  {
   "cell_type": "code",
   "execution_count": null,
   "metadata": {},
   "outputs": [],
   "source": []
  },
  {
   "cell_type": "code",
   "execution_count": 146,
   "metadata": {},
   "outputs": [],
   "source": [
    "PCs = pd.DataFrame(pca_model_region, columns = ['PC1','PC2','PC3','PC4'])"
   ]
  },
  {
   "cell_type": "code",
   "execution_count": 147,
   "metadata": {},
   "outputs": [
    {
     "data": {
      "text/html": [
       "<div>\n",
       "<style scoped>\n",
       "    .dataframe tbody tr th:only-of-type {\n",
       "        vertical-align: middle;\n",
       "    }\n",
       "\n",
       "    .dataframe tbody tr th {\n",
       "        vertical-align: top;\n",
       "    }\n",
       "\n",
       "    .dataframe thead th {\n",
       "        text-align: right;\n",
       "    }\n",
       "</style>\n",
       "<table border=\"1\" class=\"dataframe\">\n",
       "  <thead>\n",
       "    <tr style=\"text-align: right;\">\n",
       "      <th></th>\n",
       "      <th>PC1</th>\n",
       "      <th>PC2</th>\n",
       "      <th>PC3</th>\n",
       "      <th>PC4</th>\n",
       "    </tr>\n",
       "  </thead>\n",
       "  <tbody>\n",
       "    <tr>\n",
       "      <th>0</th>\n",
       "      <td>-1.405874</td>\n",
       "      <td>-0.878854</td>\n",
       "      <td>1.073991</td>\n",
       "      <td>0.161310</td>\n",
       "    </tr>\n",
       "    <tr>\n",
       "      <th>1</th>\n",
       "      <td>2.602807</td>\n",
       "      <td>0.646814</td>\n",
       "      <td>0.821657</td>\n",
       "      <td>-0.941268</td>\n",
       "    </tr>\n",
       "    <tr>\n",
       "      <th>2</th>\n",
       "      <td>-0.250879</td>\n",
       "      <td>2.992892</td>\n",
       "      <td>0.661846</td>\n",
       "      <td>-0.097388</td>\n",
       "    </tr>\n",
       "    <tr>\n",
       "      <th>3</th>\n",
       "      <td>-0.148612</td>\n",
       "      <td>1.391604</td>\n",
       "      <td>-0.178619</td>\n",
       "      <td>-0.095522</td>\n",
       "    </tr>\n",
       "    <tr>\n",
       "      <th>4</th>\n",
       "      <td>0.055610</td>\n",
       "      <td>1.327743</td>\n",
       "      <td>-0.075045</td>\n",
       "      <td>-0.216482</td>\n",
       "    </tr>\n",
       "    <tr>\n",
       "      <th>...</th>\n",
       "      <td>...</td>\n",
       "      <td>...</td>\n",
       "      <td>...</td>\n",
       "      <td>...</td>\n",
       "    </tr>\n",
       "    <tr>\n",
       "      <th>301</th>\n",
       "      <td>-1.295288</td>\n",
       "      <td>-0.491190</td>\n",
       "      <td>0.065815</td>\n",
       "      <td>0.193873</td>\n",
       "    </tr>\n",
       "    <tr>\n",
       "      <th>302</th>\n",
       "      <td>0.031865</td>\n",
       "      <td>-0.303049</td>\n",
       "      <td>-0.798812</td>\n",
       "      <td>-0.087425</td>\n",
       "    </tr>\n",
       "    <tr>\n",
       "      <th>303</th>\n",
       "      <td>-0.076064</td>\n",
       "      <td>1.388307</td>\n",
       "      <td>-0.210463</td>\n",
       "      <td>0.146819</td>\n",
       "    </tr>\n",
       "    <tr>\n",
       "      <th>304</th>\n",
       "      <td>-0.030616</td>\n",
       "      <td>3.085493</td>\n",
       "      <td>0.375802</td>\n",
       "      <td>-0.128025</td>\n",
       "    </tr>\n",
       "    <tr>\n",
       "      <th>305</th>\n",
       "      <td>-2.214134</td>\n",
       "      <td>-1.059738</td>\n",
       "      <td>1.760750</td>\n",
       "      <td>0.398345</td>\n",
       "    </tr>\n",
       "  </tbody>\n",
       "</table>\n",
       "<p>306 rows × 4 columns</p>\n",
       "</div>"
      ],
      "text/plain": [
       "          PC1       PC2       PC3       PC4\n",
       "0   -1.405874 -0.878854  1.073991  0.161310\n",
       "1    2.602807  0.646814  0.821657 -0.941268\n",
       "2   -0.250879  2.992892  0.661846 -0.097388\n",
       "3   -0.148612  1.391604 -0.178619 -0.095522\n",
       "4    0.055610  1.327743 -0.075045 -0.216482\n",
       "..        ...       ...       ...       ...\n",
       "301 -1.295288 -0.491190  0.065815  0.193873\n",
       "302  0.031865 -0.303049 -0.798812 -0.087425\n",
       "303 -0.076064  1.388307 -0.210463  0.146819\n",
       "304 -0.030616  3.085493  0.375802 -0.128025\n",
       "305 -2.214134 -1.059738  1.760750  0.398345\n",
       "\n",
       "[306 rows x 4 columns]"
      ]
     },
     "execution_count": 147,
     "metadata": {},
     "output_type": "execute_result"
    }
   ],
   "source": [
    "PCs"
   ]
  },
  {
   "cell_type": "raw",
   "metadata": {},
   "source": [
    "Factor Loading Matrix\n",
    "Loadings=Eigenvectors * sqrt(Eigenvalues)\n",
    "\n",
    "loadings are the covariances/correlations between the original variables and the unit-scaled components. We can skip this part as we dont have many featurs here."
   ]
  },
  {
   "cell_type": "code",
   "execution_count": 148,
   "metadata": {},
   "outputs": [
    {
     "data": {
      "text/plain": [
       "(306, 4)"
      ]
     },
     "execution_count": 148,
     "metadata": {},
     "output_type": "execute_result"
    }
   ],
   "source": [
    "pca_model_region.shape"
   ]
  },
  {
   "cell_type": "markdown",
   "metadata": {},
   "source": [
    "#### Clustering"
   ]
  },
  {
   "cell_type": "code",
   "execution_count": 149,
   "metadata": {},
   "outputs": [],
   "source": [
    "# Lets go with basic cluters as 3.\n",
    "km_3 = KMeans(n_clusters=3, random_state=123)\n",
    "km_3 = km_3.fit(sc_model_region)"
   ]
  },
  {
   "cell_type": "code",
   "execution_count": 150,
   "metadata": {},
   "outputs": [
    {
     "data": {
      "text/plain": [
       "array([[-0.26924631, -0.56147685,  0.        , -0.32225923, -0.31654785,\n",
       "        -0.3687594 ],\n",
       "       [ 0.76976318, -0.07284878,  0.        ,  1.80488565,  2.00346085,\n",
       "         2.1451184 ],\n",
       "       [ 0.35270015,  1.52919792,  0.        ,  0.00424419, -0.10488112,\n",
       "        -0.0328857 ]])"
      ]
     },
     "execution_count": 150,
     "metadata": {},
     "output_type": "execute_result"
    }
   ],
   "source": [
    "km_3.cluster_centers_"
   ]
  },
  {
   "cell_type": "code",
   "execution_count": 151,
   "metadata": {},
   "outputs": [
    {
     "data": {
      "text/plain": [
       "array([0, 1, 2, 2, 2, 0, 0, 2, 2, 1, 0, 2, 0, 1, 0, 0, 0, 0, 0, 0, 0, 1,\n",
       "       0, 0, 1, 0, 0, 1, 0, 0, 1, 1, 0, 0, 0, 0, 0, 0, 0, 0, 0, 0, 2, 2,\n",
       "       0, 0, 0, 0, 0, 2, 2, 2, 0, 0, 1, 0, 0, 0, 2, 0, 1, 0, 1, 0, 0, 2,\n",
       "       0, 0, 2, 0, 0, 1, 2, 2, 0, 2, 2, 0, 0, 2, 0, 0, 0, 0, 2, 0, 2, 0,\n",
       "       0, 0, 0, 1, 0, 0, 0, 0, 1, 0, 0, 0, 0, 2, 2, 0, 1, 0, 0, 0, 0, 0,\n",
       "       0, 0, 0, 0, 2, 0, 2, 0, 0, 0, 0, 0, 0, 0, 0, 2, 0, 1, 0, 0, 1, 2,\n",
       "       0, 0, 2, 0, 0, 1, 0, 0, 0, 0, 0, 0, 0, 0, 0, 0, 0, 0, 0, 1, 0, 0,\n",
       "       0, 0, 0, 2, 1, 2, 1, 0, 0, 0, 2, 0, 2, 2, 0, 0, 0, 2, 2, 0, 0, 0,\n",
       "       0, 0, 2, 0, 2, 0, 0, 0, 2, 2, 0, 1, 2, 2, 0, 1, 0, 2, 2, 2, 0, 2,\n",
       "       0, 0, 0, 1, 0, 1, 0, 0, 0, 0, 0, 2, 1, 1, 0, 0, 0, 2, 2, 0, 1, 2,\n",
       "       0, 0, 2, 2, 0, 2, 0, 0, 2, 0, 0, 0, 1, 2, 0, 2, 0, 0, 0, 2, 0, 0,\n",
       "       0, 0, 0, 0, 2, 2, 0, 2, 2, 2, 2, 1, 0, 2, 0, 0, 0, 0, 1, 2, 0, 0,\n",
       "       1, 0, 2, 0, 0, 0, 0, 0, 0, 0, 0, 0, 0, 0, 2, 0, 0, 0, 0, 2, 1, 2,\n",
       "       2, 2, 0, 0, 1, 2, 0, 0, 0, 2, 0, 0, 0, 1, 0, 0, 0, 2, 2, 0],\n",
       "      dtype=int32)"
      ]
     },
     "execution_count": 151,
     "metadata": {},
     "output_type": "execute_result"
    }
   ],
   "source": [
    "km_3.labels_"
   ]
  },
  {
   "cell_type": "code",
   "execution_count": 153,
   "metadata": {},
   "outputs": [],
   "source": [
    "# As we dont know how many clusters should get formred to give the optimum solution, We will use Silhoutte score to \n",
    "# decide the number of clusters.\n",
    "\n",
    "# Choosing best solution (optimal solution) - Identifying best value of K\n",
    "# #Metrics:  Silhoutte coeficient\tbetween -1 & 1\t\n",
    "# #\t\tCloser to 1, segmentation is good\t\n",
    "# #\t\tcloser to -1, segmentation is bad\t\n",
    "\n",
    "# calculate SC for K=3 through K=20\n",
    "k_range = range(3, 20)\n",
    "scores = []\n",
    "for k in k_range:\n",
    "    km = KMeans(n_clusters=k, random_state=123)\n",
    "    km.fit(sc_model_region)\n",
    "    scores.append(silhouette_score(sc_model_region, km.labels_))"
   ]
  },
  {
   "cell_type": "code",
   "execution_count": 154,
   "metadata": {},
   "outputs": [
    {
     "data": {
      "text/plain": [
       "[0.4054458042175905,\n",
       " 0.4258766482073263,\n",
       " 0.44274346860552116,\n",
       " 0.43913925606617016,\n",
       " 0.4346658244029413,\n",
       " 0.39702590360839496,\n",
       " 0.4171784867395391,\n",
       " 0.38234738166904847,\n",
       " 0.3834997815374063,\n",
       " 0.3647916364433576,\n",
       " 0.34479726532509936,\n",
       " 0.340162422821715,\n",
       " 0.3293898332584592,\n",
       " 0.33249185736618553,\n",
       " 0.3347982449614585,\n",
       " 0.35204315501392747,\n",
       " 0.3433745749170961]"
      ]
     },
     "execution_count": 154,
     "metadata": {},
     "output_type": "execute_result"
    }
   ],
   "source": [
    "scores"
   ]
  },
  {
   "cell_type": "code",
   "execution_count": 155,
   "metadata": {},
   "outputs": [
    {
     "data": {
      "image/png": "[encoded data removed]",
      "text/plain": [
       "<Figure size 720x540 with 1 Axes>"
      ]
     },
     "metadata": {
      "needs_background": "light"
     },
     "output_type": "display_data"
    }
   ],
   "source": [
    "# plot the results\n",
    "plt.plot(k_range, scores)\n",
    "plt.xlabel('Number of clusters')\n",
    "plt.ylabel('Silhouette Coefficient')\n",
    "plt.grid(True)"
   ]
  },
  {
   "cell_type": "markdown",
   "metadata": {},
   "source": [
    "Based on the above scores and plot , we can see that 15 is having the least Cofficient. i.e most scattered cluster \n",
    "Hence , we will consider 15 cluster solution. \n"
   ]
  },
  {
   "cell_type": "code",
   "execution_count": 156,
   "metadata": {},
   "outputs": [],
   "source": [
    "# 15 Cluster solution:\n",
    "km_15 = KMeans(n_clusters=15, random_state=123)\n",
    "km_15 = km_15.fit(sc_model_region)"
   ]
  },
  {
   "cell_type": "code",
   "execution_count": 157,
   "metadata": {},
   "outputs": [
    {
     "data": {
      "text/plain": [
       "array([ 4, 14, 10,  2,  2,  5,  5,  2,  2,  1,  0, 10,  5, 14,  0, 13, 13,\n",
       "        5,  5,  5,  5,  9,  5,  4,  1,  5,  0,  1,  0,  1,  1,  1, 13, 12,\n",
       "       13,  4,  4,  4,  0,  5, 12,  5, 14,  2,  4,  0,  4,  5, 13,  6, 14,\n",
       "       10,  0,  5,  1, 13,  5,  5,  6,  0,  8,  5,  8,  5,  0,  6,  5,  5,\n",
       "        2, 13,  4,  8,  2,  2,  5,  2,  2,  0,  0,  2,  5,  4,  5,  0,  4,\n",
       "        0,  2,  4,  4,  4, 13,  7,  5, 13,  5,  5,  1, 13, 13, 13,  0, 10,\n",
       "        2,  5,  1,  4,  0,  5,  5,  5,  5, 13,  0,  1,  6,  0,  2,  0,  5,\n",
       "        4,  5,  4,  5,  0,  5,  2, 12, 11,  5, 13,  1,  2,  4,  5,  6, 13,\n",
       "        5,  1,  5,  5,  5,  5,  4,  4,  4,  5, 13,  5,  4,  5,  5, 14,  5,\n",
       "        5,  5,  0, 13, 10, 14,  2, 14,  0,  5, 13,  2,  4,  2,  2,  4,  4,\n",
       "       13, 14,  6,  5,  5,  0, 13,  5,  6,  4,  2,  4, 12,  5,  6,  2, 13,\n",
       "        8,  6,  2, 13,  1,  5,  2, 10, 14,  5, 10,  0, 13,  5,  8,  0,  8,\n",
       "       13, 13, 13,  5,  0,  6,  7,  1, 13,  0,  5,  6,  2,  0,  1,  6, 12,\n",
       "        0,  2,  6,  4,  6,  0, 13,  2, 13,  0,  5,  3, 14,  5,  2,  5,  5,\n",
       "        5,  6, 13, 13,  5,  5,  5,  0, 10,  2,  5,  2,  2,  6, 10, 14,  5,\n",
       "       10, 13,  5,  0,  5,  8,  2,  1,  5,  8,  0,  2,  5,  0,  4, 13, 13,\n",
       "       13,  4,  0,  0,  4, 12, 10, 13, 13,  5,  5,  6,  1,  2,  2,  6,  0,\n",
       "        0,  7,  6,  5,  0, 12,  2,  4, 13,  0, 14, 12,  0, 13,  2, 10, 12],\n",
       "      dtype=int32)"
      ]
     },
     "execution_count": 157,
     "metadata": {},
     "output_type": "execute_result"
    }
   ],
   "source": [
    "km_15.labels_"
   ]
  },
  {
   "cell_type": "code",
   "execution_count": 158,
   "metadata": {},
   "outputs": [
    {
     "data": {
      "text/plain": [
       "array([[-0.46906979, -0.57947894,  0.        , -0.52564094, -0.51452407,\n",
       "        -0.59354166],\n",
       "       [ 0.65659341, -0.57947894,  0.        ,  0.85147614,  1.06714953,\n",
       "         1.17462345],\n",
       "       [ 0.12306461,  1.19372661,  0.        , -0.28561991, -0.36421037,\n",
       "        -0.37835323],\n",
       "       [ 0.89179105,  1.19372661,  0.        ,  2.34839306,  6.14700387,\n",
       "         3.82358565],\n",
       "       [-1.75228564, -0.46507858,  0.        , -0.61730506, -0.58762829,\n",
       "        -0.65397511],\n",
       "       [ 0.27992083, -0.57947894,  0.        , -0.38834948, -0.305229  ,\n",
       "        -0.37971199],\n",
       "       [ 0.76744015,  1.19372661,  0.        ,  0.43716316,  0.2025681 ,\n",
       "         0.37624911],\n",
       "       [ 0.95237226, -0.57947894,  0.        ,  3.67782782,  1.16305104,\n",
       "         1.74547728],\n",
       "       [ 0.78956026, -0.13617755,  0.        ,  1.67196733,  2.92951041,\n",
       "         3.02827401],\n",
       "       [ 0.98266287, -0.57947894,  0.        ,  2.9288458 ,  9.29922232,\n",
       "         7.39742401],\n",
       "       [ 0.40714137,  3.11469928,  0.        , -0.0399184 , -0.21152533,\n",
       "        -0.10494472],\n",
       "       [ 0.98266287, -0.57947894,  0.        , 10.19206425,  1.70263736,\n",
       "         4.51398898],\n",
       "       [-3.39937801, -0.3824561 ,  0.        , -0.70213114, -0.62346991,\n",
       "        -0.74473421],\n",
       "       [ 0.67276667, -0.57947894,  0.        ,  0.29261251,  0.06188486,\n",
       "         0.09985061],\n",
       "       [ 0.80849189,  1.34149373,  0.        ,  1.09237306,  1.27929254,\n",
       "         1.56989342]])"
      ]
     },
     "execution_count": 158,
     "metadata": {},
     "output_type": "execute_result"
    }
   ],
   "source": [
    "km_15.cluster_centers_"
   ]
  },
  {
   "cell_type": "code",
   "execution_count": 159,
   "metadata": {},
   "outputs": [
    {
     "data": {
      "text/plain": [
       "5     75\n",
       "0     41\n",
       "13    39\n",
       "2     37\n",
       "4     31\n",
       "6     19\n",
       "1     17\n",
       "14    12\n",
       "10    12\n",
       "12     9\n",
       "8      8\n",
       "7      3\n",
       "11     1\n",
       "9      1\n",
       "3      1\n",
       "dtype: int64"
      ]
     },
     "execution_count": 159,
     "metadata": {},
     "output_type": "execute_result"
    }
   ],
   "source": [
    "# count the values in each cluters\n",
    "pd.Series(km_15.labels_).value_counts()"
   ]
  },
  {
   "cell_type": "markdown",
   "metadata": {},
   "source": [
    "From the above results we can see that, cluster 11,9 and 3 are the least similar regions."
   ]
  },
  {
   "cell_type": "code",
   "execution_count": 163,
   "metadata": {},
   "outputs": [
    {
     "data": {
      "text/plain": [
       "Text(0.5, 0, 'PC_15')"
      ]
     },
     "execution_count": 163,
     "metadata": {},
     "output_type": "execute_result"
    },
    {
     "data": {
      "image/png": "[encoded data removed]",
      "text/plain": [
       "<Figure size 720x720 with 1 Axes>"
      ]
     },
     "metadata": {
      "needs_background": "light"
     },
     "output_type": "display_data"
    }
   ],
   "source": [
    "# scatter plot \n",
    "plt.figure(figsize=(10,10))\n",
    "plt.scatter(pca_model_region[:,0], pca_model_region[:,1], c=km_15.labels_,alpha=0.5, cmap='Spectral')\n",
    "plt.xlabel('PC_15')"
   ]
  },
  {
   "cell_type": "code",
   "execution_count": 166,
   "metadata": {},
   "outputs": [],
   "source": [
    "cluster_df_15=pd.concat([Provider_Charge_group, pd.Series(km_15.labels_, name='Cluster_15')], axis=1)\n",
    "\n",
    "cluster_df_15.to_csv('cluster_df_15.csv')"
   ]
  },
  {
   "cell_type": "code",
   "execution_count": 167,
   "metadata": {},
   "outputs": [
    {
     "data": {
      "text/html": [
       "<div>\n",
       "<style scoped>\n",
       "    .dataframe tbody tr th:only-of-type {\n",
       "        vertical-align: middle;\n",
       "    }\n",
       "\n",
       "    .dataframe tbody tr th {\n",
       "        vertical-align: top;\n",
       "    }\n",
       "\n",
       "    .dataframe thead th {\n",
       "        text-align: right;\n",
       "    }\n",
       "</style>\n",
       "<table border=\"1\" class=\"dataframe\">\n",
       "  <thead>\n",
       "    <tr style=\"text-align: right;\">\n",
       "      <th></th>\n",
       "      <th>Unnamed: 0</th>\n",
       "      <th>Provider</th>\n",
       "      <th>Procedure</th>\n",
       "      <th>State</th>\n",
       "      <th>Region</th>\n",
       "      <th>Service_Count</th>\n",
       "      <th>Charges</th>\n",
       "      <th>Payments</th>\n",
       "      <th>Cluster_15</th>\n",
       "    </tr>\n",
       "  </thead>\n",
       "  <tbody>\n",
       "    <tr>\n",
       "      <th>0</th>\n",
       "      <td>0</td>\n",
       "      <td>ABBEVILLE GENERAL HOSPITAL</td>\n",
       "      <td>25</td>\n",
       "      <td>1</td>\n",
       "      <td>1</td>\n",
       "      <td>1294</td>\n",
       "      <td>314058.89</td>\n",
       "      <td>121115.80</td>\n",
       "      <td>4.0</td>\n",
       "    </tr>\n",
       "    <tr>\n",
       "      <th>1</th>\n",
       "      <td>1</td>\n",
       "      <td>ABBOTT NORTHWESTERN HOSPITAL</td>\n",
       "      <td>121</td>\n",
       "      <td>1</td>\n",
       "      <td>1</td>\n",
       "      <td>20810</td>\n",
       "      <td>4495571.85</td>\n",
       "      <td>1065438.89</td>\n",
       "      <td>14.0</td>\n",
       "    </tr>\n",
       "    <tr>\n",
       "      <th>2</th>\n",
       "      <td>2</td>\n",
       "      <td>ABILENE REGIONAL MEDICAL CENTER</td>\n",
       "      <td>71</td>\n",
       "      <td>1</td>\n",
       "      <td>1</td>\n",
       "      <td>7285</td>\n",
       "      <td>3613719.38</td>\n",
       "      <td>516580.33</td>\n",
       "      <td>10.0</td>\n",
       "    </tr>\n",
       "    <tr>\n",
       "      <th>3</th>\n",
       "      <td>3</td>\n",
       "      <td>ABINGTON MEMORIAL HOSPITAL</td>\n",
       "      <td>121</td>\n",
       "      <td>1</td>\n",
       "      <td>1</td>\n",
       "      <td>19300</td>\n",
       "      <td>6832266.25</td>\n",
       "      <td>1027582.36</td>\n",
       "      <td>2.0</td>\n",
       "    </tr>\n",
       "    <tr>\n",
       "      <th>4</th>\n",
       "      <td>4</td>\n",
       "      <td>ACMH HOSPITAL</td>\n",
       "      <td>54</td>\n",
       "      <td>1</td>\n",
       "      <td>1</td>\n",
       "      <td>4151</td>\n",
       "      <td>406719.05</td>\n",
       "      <td>199332.50</td>\n",
       "      <td>2.0</td>\n",
       "    </tr>\n",
       "    <tr>\n",
       "      <th>...</th>\n",
       "      <td>...</td>\n",
       "      <td>...</td>\n",
       "      <td>...</td>\n",
       "      <td>...</td>\n",
       "      <td>...</td>\n",
       "      <td>...</td>\n",
       "      <td>...</td>\n",
       "      <td>...</td>\n",
       "      <td>...</td>\n",
       "    </tr>\n",
       "    <tr>\n",
       "      <th>3196</th>\n",
       "      <td>3196</td>\n",
       "      <td>YAVAPAI REGIONAL MEDICAL CENTER-EAST</td>\n",
       "      <td>34</td>\n",
       "      <td>1</td>\n",
       "      <td>1</td>\n",
       "      <td>2110</td>\n",
       "      <td>542078.31</td>\n",
       "      <td>201164.86</td>\n",
       "      <td>NaN</td>\n",
       "    </tr>\n",
       "    <tr>\n",
       "      <th>3197</th>\n",
       "      <td>3197</td>\n",
       "      <td>YORK HOSPITAL</td>\n",
       "      <td>122</td>\n",
       "      <td>2</td>\n",
       "      <td>2</td>\n",
       "      <td>35048</td>\n",
       "      <td>3139751.07</td>\n",
       "      <td>1394482.57</td>\n",
       "      <td>NaN</td>\n",
       "    </tr>\n",
       "    <tr>\n",
       "      <th>3198</th>\n",
       "      <td>3198</td>\n",
       "      <td>YUKON KUSKOKWIM DELTA REG HOSPITAL</td>\n",
       "      <td>6</td>\n",
       "      <td>1</td>\n",
       "      <td>1</td>\n",
       "      <td>137</td>\n",
       "      <td>45876.15</td>\n",
       "      <td>59637.34</td>\n",
       "      <td>NaN</td>\n",
       "    </tr>\n",
       "    <tr>\n",
       "      <th>3199</th>\n",
       "      <td>3199</td>\n",
       "      <td>YUMA REGIONAL MEDICAL CENTER</td>\n",
       "      <td>102</td>\n",
       "      <td>1</td>\n",
       "      <td>1</td>\n",
       "      <td>11556</td>\n",
       "      <td>3161874.81</td>\n",
       "      <td>901111.74</td>\n",
       "      <td>NaN</td>\n",
       "    </tr>\n",
       "    <tr>\n",
       "      <th>3200</th>\n",
       "      <td>3200</td>\n",
       "      <td>ZUNI COMPREHENSIVE COMMUNITY HEALTH CENTER</td>\n",
       "      <td>1</td>\n",
       "      <td>1</td>\n",
       "      <td>1</td>\n",
       "      <td>16</td>\n",
       "      <td>7385.25</td>\n",
       "      <td>9500.75</td>\n",
       "      <td>NaN</td>\n",
       "    </tr>\n",
       "  </tbody>\n",
       "</table>\n",
       "<p>3201 rows × 9 columns</p>\n",
       "</div>"
      ],
      "text/plain": [
       "      Unnamed: 0                                    Provider  Procedure  \\\n",
       "0              0                  ABBEVILLE GENERAL HOSPITAL         25   \n",
       "1              1                ABBOTT NORTHWESTERN HOSPITAL        121   \n",
       "2              2             ABILENE REGIONAL MEDICAL CENTER         71   \n",
       "3              3                  ABINGTON MEMORIAL HOSPITAL        121   \n",
       "4              4                               ACMH HOSPITAL         54   \n",
       "...          ...                                         ...        ...   \n",
       "3196        3196        YAVAPAI REGIONAL MEDICAL CENTER-EAST         34   \n",
       "3197        3197                               YORK HOSPITAL        122   \n",
       "3198        3198          YUKON KUSKOKWIM DELTA REG HOSPITAL          6   \n",
       "3199        3199                YUMA REGIONAL MEDICAL CENTER        102   \n",
       "3200        3200  ZUNI COMPREHENSIVE COMMUNITY HEALTH CENTER          1   \n",
       "\n",
       "      State  Region  Service_Count     Charges    Payments  Cluster_15  \n",
       "0         1       1           1294   314058.89   121115.80         4.0  \n",
       "1         1       1          20810  4495571.85  1065438.89        14.0  \n",
       "2         1       1           7285  3613719.38   516580.33        10.0  \n",
       "3         1       1          19300  6832266.25  1027582.36         2.0  \n",
       "4         1       1           4151   406719.05   199332.50         2.0  \n",
       "...     ...     ...            ...         ...         ...         ...  \n",
       "3196      1       1           2110   542078.31   201164.86         NaN  \n",
       "3197      2       2          35048  3139751.07  1394482.57         NaN  \n",
       "3198      1       1            137    45876.15    59637.34         NaN  \n",
       "3199      1       1          11556  3161874.81   901111.74         NaN  \n",
       "3200      1       1             16     7385.25     9500.75         NaN  \n",
       "\n",
       "[3201 rows x 9 columns]"
      ]
     },
     "execution_count": 167,
     "metadata": {},
     "output_type": "execute_result"
    }
   ],
   "source": [
    "pd.read_csv('cluster_df_15.csv')"
   ]
  },
  {
   "attachments": {
    "image.png": {
     "image/png": "[encoded data removed]"
    }
   },
   "cell_type": "markdown",
   "metadata": {},
   "source": [
    "Based on the above scatter plot and csv generated based on this, we can see that these are the list of provider with least similarity.\n",
    "\n",
    "![image.png](attachment:image.png)"
   ]
  },
  {
   "cell_type": "raw",
   "metadata": {},
   "source": [
    "********************** End of part 2 ***************************"
   ]
  },
  {
   "cell_type": "code",
   "execution_count": null,
   "metadata": {},
   "outputs": [],
   "source": []
  }
 ],
 "metadata": {
  "kernelspec": {
   "display_name": "Python 3",
   "language": "python",
   "name": "python3"
  },
  "language_info": {
   "codemirror_mode": {
    "name": "ipython",
    "version": 3
   },
   "file_extension": ".py",
   "mimetype": "text/x-python",
   "name": "python",
   "nbconvert_exporter": "python",
   "pygments_lexer": "ipython3",
   "version": "3.7.4"
  }
 },
 "nbformat": 4,
 "nbformat_minor": 2
}
